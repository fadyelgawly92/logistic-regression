{
 "cells": [
  {
   "cell_type": "code",
   "execution_count": 1,
   "id": "0d16308b",
   "metadata": {
    "_cell_guid": "b1076dfc-b9ad-4769-8c92-a6c4dae69d19",
    "_uuid": "8f2839f25d086af736a60e9eeb907d3b93b6e0e5",
    "execution": {
     "iopub.execute_input": "2022-06-26T13:37:58.350713Z",
     "iopub.status.busy": "2022-06-26T13:37:58.350100Z",
     "iopub.status.idle": "2022-06-26T13:37:58.364678Z",
     "shell.execute_reply": "2022-06-26T13:37:58.363680Z"
    },
    "papermill": {
     "duration": 0.025455,
     "end_time": "2022-06-26T13:37:58.367140",
     "exception": false,
     "start_time": "2022-06-26T13:37:58.341685",
     "status": "completed"
    },
    "tags": []
   },
   "outputs": [],
   "source": [
    "import numpy as np \n",
    "import pandas as pd\n",
    "import matplotlib.pyplot as plt"
   ]
  },
  {
   "cell_type": "code",
   "execution_count": 2,
   "id": "5dcdb095",
   "metadata": {
    "execution": {
     "iopub.execute_input": "2022-06-26T13:37:58.379953Z",
     "iopub.status.busy": "2022-06-26T13:37:58.379370Z",
     "iopub.status.idle": "2022-06-26T13:37:58.417033Z",
     "shell.execute_reply": "2022-06-26T13:37:58.415834Z"
    },
    "papermill": {
     "duration": 0.047104,
     "end_time": "2022-06-26T13:37:58.420054",
     "exception": false,
     "start_time": "2022-06-26T13:37:58.372950",
     "status": "completed"
    },
    "tags": []
   },
   "outputs": [
    {
     "data": {
      "text/html": [
       "<div>\n",
       "<style scoped>\n",
       "    .dataframe tbody tr th:only-of-type {\n",
       "        vertical-align: middle;\n",
       "    }\n",
       "\n",
       "    .dataframe tbody tr th {\n",
       "        vertical-align: top;\n",
       "    }\n",
       "\n",
       "    .dataframe thead th {\n",
       "        text-align: right;\n",
       "    }\n",
       "</style>\n",
       "<table border=\"1\" class=\"dataframe\">\n",
       "  <thead>\n",
       "    <tr style=\"text-align: right;\">\n",
       "      <th></th>\n",
       "      <th>Pregnancies</th>\n",
       "      <th>Glucose</th>\n",
       "      <th>BloodPressure</th>\n",
       "      <th>SkinThickness</th>\n",
       "      <th>Insulin</th>\n",
       "      <th>BMI</th>\n",
       "      <th>DiabetesPedigreeFunction</th>\n",
       "      <th>Age</th>\n",
       "      <th>Outcome</th>\n",
       "    </tr>\n",
       "  </thead>\n",
       "  <tbody>\n",
       "    <tr>\n",
       "      <th>0</th>\n",
       "      <td>6</td>\n",
       "      <td>148</td>\n",
       "      <td>72</td>\n",
       "      <td>35</td>\n",
       "      <td>0</td>\n",
       "      <td>33.6</td>\n",
       "      <td>0.627</td>\n",
       "      <td>50</td>\n",
       "      <td>1</td>\n",
       "    </tr>\n",
       "    <tr>\n",
       "      <th>1</th>\n",
       "      <td>1</td>\n",
       "      <td>85</td>\n",
       "      <td>66</td>\n",
       "      <td>29</td>\n",
       "      <td>0</td>\n",
       "      <td>26.6</td>\n",
       "      <td>0.351</td>\n",
       "      <td>31</td>\n",
       "      <td>0</td>\n",
       "    </tr>\n",
       "    <tr>\n",
       "      <th>2</th>\n",
       "      <td>8</td>\n",
       "      <td>183</td>\n",
       "      <td>64</td>\n",
       "      <td>0</td>\n",
       "      <td>0</td>\n",
       "      <td>23.3</td>\n",
       "      <td>0.672</td>\n",
       "      <td>32</td>\n",
       "      <td>1</td>\n",
       "    </tr>\n",
       "    <tr>\n",
       "      <th>3</th>\n",
       "      <td>1</td>\n",
       "      <td>89</td>\n",
       "      <td>66</td>\n",
       "      <td>23</td>\n",
       "      <td>94</td>\n",
       "      <td>28.1</td>\n",
       "      <td>0.167</td>\n",
       "      <td>21</td>\n",
       "      <td>0</td>\n",
       "    </tr>\n",
       "    <tr>\n",
       "      <th>4</th>\n",
       "      <td>0</td>\n",
       "      <td>137</td>\n",
       "      <td>40</td>\n",
       "      <td>35</td>\n",
       "      <td>168</td>\n",
       "      <td>43.1</td>\n",
       "      <td>2.288</td>\n",
       "      <td>33</td>\n",
       "      <td>1</td>\n",
       "    </tr>\n",
       "    <tr>\n",
       "      <th>5</th>\n",
       "      <td>5</td>\n",
       "      <td>116</td>\n",
       "      <td>74</td>\n",
       "      <td>0</td>\n",
       "      <td>0</td>\n",
       "      <td>25.6</td>\n",
       "      <td>0.201</td>\n",
       "      <td>30</td>\n",
       "      <td>0</td>\n",
       "    </tr>\n",
       "    <tr>\n",
       "      <th>6</th>\n",
       "      <td>3</td>\n",
       "      <td>78</td>\n",
       "      <td>50</td>\n",
       "      <td>32</td>\n",
       "      <td>88</td>\n",
       "      <td>31.0</td>\n",
       "      <td>0.248</td>\n",
       "      <td>26</td>\n",
       "      <td>1</td>\n",
       "    </tr>\n",
       "    <tr>\n",
       "      <th>7</th>\n",
       "      <td>10</td>\n",
       "      <td>115</td>\n",
       "      <td>0</td>\n",
       "      <td>0</td>\n",
       "      <td>0</td>\n",
       "      <td>35.3</td>\n",
       "      <td>0.134</td>\n",
       "      <td>29</td>\n",
       "      <td>0</td>\n",
       "    </tr>\n",
       "    <tr>\n",
       "      <th>8</th>\n",
       "      <td>2</td>\n",
       "      <td>197</td>\n",
       "      <td>70</td>\n",
       "      <td>45</td>\n",
       "      <td>543</td>\n",
       "      <td>30.5</td>\n",
       "      <td>0.158</td>\n",
       "      <td>53</td>\n",
       "      <td>1</td>\n",
       "    </tr>\n",
       "    <tr>\n",
       "      <th>9</th>\n",
       "      <td>8</td>\n",
       "      <td>125</td>\n",
       "      <td>96</td>\n",
       "      <td>0</td>\n",
       "      <td>0</td>\n",
       "      <td>0.0</td>\n",
       "      <td>0.232</td>\n",
       "      <td>54</td>\n",
       "      <td>1</td>\n",
       "    </tr>\n",
       "  </tbody>\n",
       "</table>\n",
       "</div>"
      ],
      "text/plain": [
       "   Pregnancies  Glucose  BloodPressure  SkinThickness  Insulin   BMI  \\\n",
       "0            6      148             72             35        0  33.6   \n",
       "1            1       85             66             29        0  26.6   \n",
       "2            8      183             64              0        0  23.3   \n",
       "3            1       89             66             23       94  28.1   \n",
       "4            0      137             40             35      168  43.1   \n",
       "5            5      116             74              0        0  25.6   \n",
       "6            3       78             50             32       88  31.0   \n",
       "7           10      115              0              0        0  35.3   \n",
       "8            2      197             70             45      543  30.5   \n",
       "9            8      125             96              0        0   0.0   \n",
       "\n",
       "   DiabetesPedigreeFunction  Age  Outcome  \n",
       "0                     0.627   50        1  \n",
       "1                     0.351   31        0  \n",
       "2                     0.672   32        1  \n",
       "3                     0.167   21        0  \n",
       "4                     2.288   33        1  \n",
       "5                     0.201   30        0  \n",
       "6                     0.248   26        1  \n",
       "7                     0.134   29        0  \n",
       "8                     0.158   53        1  \n",
       "9                     0.232   54        1  "
      ]
     },
     "execution_count": 2,
     "metadata": {},
     "output_type": "execute_result"
    }
   ],
   "source": [
    "data = pd.read_csv(\"../input/pima-indians-diabetes-database/diabetes.csv\")\n",
    "data.head(10)"
   ]
  },
  {
   "cell_type": "code",
   "execution_count": 3,
   "id": "075d60f0",
   "metadata": {
    "execution": {
     "iopub.execute_input": "2022-06-26T13:37:58.433616Z",
     "iopub.status.busy": "2022-06-26T13:37:58.433266Z",
     "iopub.status.idle": "2022-06-26T13:37:58.440876Z",
     "shell.execute_reply": "2022-06-26T13:37:58.440085Z"
    },
    "papermill": {
     "duration": 0.016865,
     "end_time": "2022-06-26T13:37:58.442924",
     "exception": false,
     "start_time": "2022-06-26T13:37:58.426059",
     "status": "completed"
    },
    "tags": []
   },
   "outputs": [],
   "source": [
    "X = data.iloc[:,0:-1].values\n",
    "y = data.iloc[:,-1].values"
   ]
  },
  {
   "cell_type": "code",
   "execution_count": 4,
   "id": "aa8d7a7e",
   "metadata": {
    "execution": {
     "iopub.execute_input": "2022-06-26T13:37:58.455648Z",
     "iopub.status.busy": "2022-06-26T13:37:58.455303Z",
     "iopub.status.idle": "2022-06-26T13:37:59.554913Z",
     "shell.execute_reply": "2022-06-26T13:37:59.553861Z"
    },
    "papermill": {
     "duration": 1.109067,
     "end_time": "2022-06-26T13:37:59.557652",
     "exception": false,
     "start_time": "2022-06-26T13:37:58.448585",
     "status": "completed"
    },
    "tags": []
   },
   "outputs": [],
   "source": [
    "from sklearn.model_selection import train_test_split\n",
    "X_train, X_test, y_train, y_test = train_test_split(X, y, test_size = 0.20, random_state = 4)"
   ]
  },
  {
   "cell_type": "code",
   "execution_count": 5,
   "id": "e50157f8",
   "metadata": {
    "execution": {
     "iopub.execute_input": "2022-06-26T13:37:59.571354Z",
     "iopub.status.busy": "2022-06-26T13:37:59.570476Z",
     "iopub.status.idle": "2022-06-26T13:37:59.577860Z",
     "shell.execute_reply": "2022-06-26T13:37:59.576818Z"
    },
    "papermill": {
     "duration": 0.016549,
     "end_time": "2022-06-26T13:37:59.580069",
     "exception": false,
     "start_time": "2022-06-26T13:37:59.563520",
     "status": "completed"
    },
    "tags": []
   },
   "outputs": [],
   "source": [
    "from sklearn.preprocessing import StandardScaler\n",
    "sc_X = StandardScaler()\n",
    "X_train = sc_X.fit_transform(X_train)\n",
    "X_test = sc_X.transform(X_test)"
   ]
  },
  {
   "cell_type": "code",
   "execution_count": 6,
   "id": "54465e8e",
   "metadata": {
    "execution": {
     "iopub.execute_input": "2022-06-26T13:37:59.593205Z",
     "iopub.status.busy": "2022-06-26T13:37:59.592827Z",
     "iopub.status.idle": "2022-06-26T13:37:59.688616Z",
     "shell.execute_reply": "2022-06-26T13:37:59.687625Z"
    },
    "papermill": {
     "duration": 0.105345,
     "end_time": "2022-06-26T13:37:59.691199",
     "exception": false,
     "start_time": "2022-06-26T13:37:59.585854",
     "status": "completed"
    },
    "tags": []
   },
   "outputs": [],
   "source": [
    "from sklearn.svm import SVC\n",
    "model_SVC = SVC(kernel = 'rbf', random_state = 4)\n",
    "model_SVC.fit(X_train, y_train)\n",
    "\n",
    "y_pred_svm = model_SVC.decision_function(X_test)"
   ]
  },
  {
   "cell_type": "code",
   "execution_count": 7,
   "id": "4cadc32d",
   "metadata": {
    "execution": {
     "iopub.execute_input": "2022-06-26T13:37:59.704402Z",
     "iopub.status.busy": "2022-06-26T13:37:59.704035Z",
     "iopub.status.idle": "2022-06-26T13:37:59.720197Z",
     "shell.execute_reply": "2022-06-26T13:37:59.719237Z"
    },
    "papermill": {
     "duration": 0.025716,
     "end_time": "2022-06-26T13:37:59.722725",
     "exception": false,
     "start_time": "2022-06-26T13:37:59.697009",
     "status": "completed"
    },
    "tags": []
   },
   "outputs": [],
   "source": [
    "from sklearn.linear_model import LogisticRegression\n",
    "model_logistic = LogisticRegression()\n",
    "model_logistic.fit(X_train, y_train)\n",
    "\n",
    "y_pred_logistic = model_logistic.decision_function(X_test)"
   ]
  },
  {
   "cell_type": "code",
   "execution_count": 8,
   "id": "e6a7d4a2",
   "metadata": {
    "execution": {
     "iopub.execute_input": "2022-06-26T13:37:59.736253Z",
     "iopub.status.busy": "2022-06-26T13:37:59.735835Z",
     "iopub.status.idle": "2022-06-26T13:37:59.989486Z",
     "shell.execute_reply": "2022-06-26T13:37:59.988303Z"
    },
    "papermill": {
     "duration": 0.263471,
     "end_time": "2022-06-26T13:37:59.992000",
     "exception": false,
     "start_time": "2022-06-26T13:37:59.728529",
     "status": "completed"
    },
    "tags": []
   },
   "outputs": [
    {
     "data": {
      "image/png": "[encoded data removed]",
      "text/plain": [
       "<Figure size 500x500 with 1 Axes>"
      ]
     },
     "metadata": {
      "needs_background": "light"
     },
     "output_type": "display_data"
    }
   ],
   "source": [
    "from sklearn.metrics import roc_curve, auc\n",
    "\n",
    "logistic_fpr, logistic_tpr, logistic_threshold = roc_curve(y_test, y_pred_logistic)\n",
    "auc_logistic = auc(logistic_fpr, logistic_tpr)\n",
    "\n",
    "svm_fpr, svm_tpr, svm_threshold = roc_curve(y_test, y_pred_svm)\n",
    "auc_svm = auc(svm_fpr, svm_tpr)\n",
    "\n",
    "plt.figure(figsize=(5, 5), dpi=100)\n",
    "plt.plot(svm_fpr, svm_tpr, linestyle='-', label='SVM (auc = %0.3f)' % auc_svm)\n",
    "plt.plot(logistic_fpr, logistic_tpr, marker='.', label='Logistic (auc = %0.3f)' % auc_logistic)\n",
    "\n",
    "plt.xlabel('False Positive Rate -->')\n",
    "plt.ylabel('True Positive Rate -->')\n",
    "\n",
    "plt.legend()\n",
    "\n",
    "plt.show()"
   ]
  },
  {
   "cell_type": "code",
   "execution_count": 9,
   "id": "5847cfc0",
   "metadata": {
    "execution": {
     "iopub.execute_input": "2022-06-26T13:38:00.006766Z",
     "iopub.status.busy": "2022-06-26T13:38:00.006320Z",
     "iopub.status.idle": "2022-06-26T13:38:00.021583Z",
     "shell.execute_reply": "2022-06-26T13:38:00.019894Z"
    },
    "papermill": {
     "duration": 0.025405,
     "end_time": "2022-06-26T13:38:00.023836",
     "exception": false,
     "start_time": "2022-06-26T13:37:59.998431",
     "status": "completed"
    },
    "tags": []
   },
   "outputs": [
    {
     "name": "stdout",
     "output_type": "stream",
     "text": [
      "Ideal logistic threshold is:  27   -0.703471\n",
      "Name: thresholds, dtype: float64\n"
     ]
    }
   ],
   "source": [
    "import pandas as pd\n",
    "i = np.arange(len(logistic_tpr)) \n",
    "roc = pd.DataFrame({'tf' : pd.Series(logistic_tpr-(1-logistic_fpr), index=i), 'thresholds' : pd.Series(logistic_threshold, index=i)})\n",
    "ideal_roc_thresh = roc.iloc[(roc.tf-0).abs().argsort()[:1]]  #Locate the point where the value is close to 0\n",
    "print(\"Ideal logistic threshold is: \", ideal_roc_thresh['thresholds']) "
   ]
  },
  {
   "cell_type": "code",
   "execution_count": 10,
   "id": "92c52c0c",
   "metadata": {
    "execution": {
     "iopub.execute_input": "2022-06-26T13:38:00.038394Z",
     "iopub.status.busy": "2022-06-26T13:38:00.038007Z",
     "iopub.status.idle": "2022-06-26T13:38:00.050548Z",
     "shell.execute_reply": "2022-06-26T13:38:00.049315Z"
    },
    "papermill": {
     "duration": 0.022595,
     "end_time": "2022-06-26T13:38:00.052887",
     "exception": false,
     "start_time": "2022-06-26T13:38:00.030292",
     "status": "completed"
    },
    "tags": []
   },
   "outputs": [
    {
     "name": "stdout",
     "output_type": "stream",
     "text": [
      "Ideal SVM threshold is:  25   -0.418445\n",
      "Name: thresholds, dtype: float64\n"
     ]
    }
   ],
   "source": [
    "i = np.arange(len(svm_tpr)) \n",
    "roc = pd.DataFrame({'tf' : pd.Series(svm_tpr-(1-svm_fpr), index=i), 'thresholds' : pd.Series(svm_threshold, index=i)})\n",
    "ideal_roc_thresh = roc.iloc[(roc.tf-0).abs().argsort()[:1]]  #Locate the point where the value is close to 0\n",
    "print(\"Ideal SVM threshold is: \", ideal_roc_thresh['thresholds']) "
   ]
  },
  {
   "cell_type": "code",
   "execution_count": 11,
   "id": "60e154c5",
   "metadata": {
    "execution": {
     "iopub.execute_input": "2022-06-26T13:38:00.068748Z",
     "iopub.status.busy": "2022-06-26T13:38:00.068374Z",
     "iopub.status.idle": "2022-06-26T13:38:00.452437Z",
     "shell.execute_reply": "2022-06-26T13:38:00.450828Z"
    },
    "papermill": {
     "duration": 0.396476,
     "end_time": "2022-06-26T13:38:00.456108",
     "exception": false,
     "start_time": "2022-06-26T13:38:00.059632",
     "status": "completed"
    },
    "tags": []
   },
   "outputs": [
    {
     "data": {
      "image/png": "[encoded data removed]",
      "text/plain": [
       "<Figure size 432x288 with 1 Axes>"
      ]
     },
     "metadata": {
      "needs_background": "light"
     },
     "output_type": "display_data"
    }
   ],
   "source": [
    "from sklearn.metrics import RocCurveDisplay\n",
    "from sklearn.ensemble import RandomForestClassifier\n",
    "\n",
    "rfc = RandomForestClassifier(n_estimators=10, random_state=42)\n",
    "rfc.fit(X_train, y_train)\n",
    "\n",
    "svc_disp = RocCurveDisplay.from_estimator(model_SVC, X_test, y_test)\n",
    "ax = plt.gca()\n",
    "rfc_disp = RocCurveDisplay.from_estimator(rfc, X_test, y_test, ax=ax, alpha=0.8)\n",
    "plt.show()"
   ]
  },
  {
   "cell_type": "code",
   "execution_count": 12,
   "id": "097a58e3",
   "metadata": {
    "execution": {
     "iopub.execute_input": "2022-06-26T13:38:00.471965Z",
     "iopub.status.busy": "2022-06-26T13:38:00.471606Z",
     "iopub.status.idle": "2022-06-26T13:38:00.491721Z",
     "shell.execute_reply": "2022-06-26T13:38:00.490648Z"
    },
    "papermill": {
     "duration": 0.030553,
     "end_time": "2022-06-26T13:38:00.494267",
     "exception": false,
     "start_time": "2022-06-26T13:38:00.463714",
     "status": "completed"
    },
    "tags": []
   },
   "outputs": [
    {
     "data": {
      "text/html": [
       "<div>\n",
       "<style scoped>\n",
       "    .dataframe tbody tr th:only-of-type {\n",
       "        vertical-align: middle;\n",
       "    }\n",
       "\n",
       "    .dataframe tbody tr th {\n",
       "        vertical-align: top;\n",
       "    }\n",
       "\n",
       "    .dataframe thead th {\n",
       "        text-align: right;\n",
       "    }\n",
       "</style>\n",
       "<table border=\"1\" class=\"dataframe\">\n",
       "  <thead>\n",
       "    <tr style=\"text-align: right;\">\n",
       "      <th></th>\n",
       "      <th>fpr</th>\n",
       "      <th>tpr</th>\n",
       "      <th>1-fpr</th>\n",
       "      <th>tf</th>\n",
       "      <th>thresholds</th>\n",
       "    </tr>\n",
       "  </thead>\n",
       "  <tbody>\n",
       "    <tr>\n",
       "      <th>25</th>\n",
       "      <td>0.254902</td>\n",
       "      <td>0.75</td>\n",
       "      <td>0.745098</td>\n",
       "      <td>0.004902</td>\n",
       "      <td>-0.418445</td>\n",
       "    </tr>\n",
       "  </tbody>\n",
       "</table>\n",
       "</div>"
      ],
      "text/plain": [
       "         fpr   tpr     1-fpr        tf  thresholds\n",
       "25  0.254902  0.75  0.745098  0.004902   -0.418445"
      ]
     },
     "execution_count": 12,
     "metadata": {},
     "output_type": "execute_result"
    }
   ],
   "source": [
    "i = np.arange(len(svm_tpr)) # index for df\n",
    "roc = pd.DataFrame({'fpr' : pd.Series(svm_fpr, index=i),'tpr' : pd.Series(svm_tpr, index = i), '1-fpr' : pd.Series(1-svm_fpr, index = i), 'tf' : pd.Series(svm_tpr - (1-svm_fpr), index = i), 'thresholds' : pd.Series(svm_threshold, index = i)})\n",
    "roc.iloc[(roc.tf-0).abs().argsort()[:1]]"
   ]
  },
  {
   "cell_type": "code",
   "execution_count": 13,
   "id": "c13159de",
   "metadata": {
    "execution": {
     "iopub.execute_input": "2022-06-26T13:38:00.509874Z",
     "iopub.status.busy": "2022-06-26T13:38:00.509533Z",
     "iopub.status.idle": "2022-06-26T13:38:00.515084Z",
     "shell.execute_reply": "2022-06-26T13:38:00.513978Z"
    },
    "papermill": {
     "duration": 0.016897,
     "end_time": "2022-06-26T13:38:00.518231",
     "exception": false,
     "start_time": "2022-06-26T13:38:00.501334",
     "status": "completed"
    },
    "tags": []
   },
   "outputs": [
    {
     "name": "stdout",
     "output_type": "stream",
     "text": [
      "-0.19841213329281296\n"
     ]
    }
   ],
   "source": [
    "optimal_idx = np.argmax(svm_tpr - svm_fpr)\n",
    "optimal_threshold = svm_threshold[optimal_idx]\n",
    "print(optimal_threshold)"
   ]
  },
  {
   "cell_type": "code",
   "execution_count": 14,
   "id": "89bfe9c2",
   "metadata": {
    "execution": {
     "iopub.execute_input": "2022-06-26T13:38:00.533976Z",
     "iopub.status.busy": "2022-06-26T13:38:00.533649Z",
     "iopub.status.idle": "2022-06-26T13:38:00.539520Z",
     "shell.execute_reply": "2022-06-26T13:38:00.538362Z"
    },
    "papermill": {
     "duration": 0.016878,
     "end_time": "2022-06-26T13:38:00.542769",
     "exception": false,
     "start_time": "2022-06-26T13:38:00.525891",
     "status": "completed"
    },
    "tags": []
   },
   "outputs": [
    {
     "name": "stdout",
     "output_type": "stream",
     "text": [
      "0.0019232709837272433\n"
     ]
    }
   ],
   "source": [
    "optimal_idx = np.argmax(logistic_tpr - logistic_fpr)\n",
    "optimal_threshold = logistic_threshold[optimal_idx]\n",
    "print(optimal_threshold)"
   ]
  },
  {
   "cell_type": "code",
   "execution_count": 15,
   "id": "c05f4b8b",
   "metadata": {
    "execution": {
     "iopub.execute_input": "2022-06-26T13:38:00.559428Z",
     "iopub.status.busy": "2022-06-26T13:38:00.558743Z",
     "iopub.status.idle": "2022-06-26T13:38:00.566646Z",
     "shell.execute_reply": "2022-06-26T13:38:00.564840Z"
    },
    "papermill": {
     "duration": 0.019356,
     "end_time": "2022-06-26T13:38:00.569890",
     "exception": false,
     "start_time": "2022-06-26T13:38:00.550534",
     "status": "completed"
    },
    "tags": []
   },
   "outputs": [
    {
     "name": "stdout",
     "output_type": "stream",
     "text": [
      "Best Threshold=-0.198412, G-Mean=0.776\n"
     ]
    }
   ],
   "source": [
    "from numpy import sqrt\n",
    "from numpy import argmax\n",
    "# calculate the g-mean for each threshold\n",
    "gmeans = sqrt(svm_tpr * (1-svm_fpr))\n",
    "# locate the index of the largest g-mean\n",
    "ix = argmax(gmeans)\n",
    "print('Best Threshold=%f, G-Mean=%.3f' % (svm_threshold[ix], gmeans[ix]))"
   ]
  },
  {
   "cell_type": "code",
   "execution_count": 16,
   "id": "b011c309",
   "metadata": {
    "execution": {
     "iopub.execute_input": "2022-06-26T13:38:00.586429Z",
     "iopub.status.busy": "2022-06-26T13:38:00.585636Z",
     "iopub.status.idle": "2022-06-26T13:38:00.592820Z",
     "shell.execute_reply": "2022-06-26T13:38:00.591238Z"
    },
    "papermill": {
     "duration": 0.01889,
     "end_time": "2022-06-26T13:38:00.595972",
     "exception": false,
     "start_time": "2022-06-26T13:38:00.577082",
     "status": "completed"
    },
    "tags": []
   },
   "outputs": [
    {
     "name": "stdout",
     "output_type": "stream",
     "text": [
      "Best Threshold=-0.198412\n"
     ]
    }
   ],
   "source": [
    "# get the best threshold\n",
    "J = svm_tpr - svm_fpr\n",
    "ix = argmax(J)\n",
    "best_thresh = svm_threshold[ix]\n",
    "print('Best Threshold=%f' % (best_thresh))"
   ]
  },
  {
   "cell_type": "code",
   "execution_count": 17,
   "id": "01c3709d",
   "metadata": {
    "execution": {
     "iopub.execute_input": "2022-06-26T13:38:00.612223Z",
     "iopub.status.busy": "2022-06-26T13:38:00.611844Z",
     "iopub.status.idle": "2022-06-26T13:38:00.618177Z",
     "shell.execute_reply": "2022-06-26T13:38:00.617021Z"
    },
    "papermill": {
     "duration": 0.017627,
     "end_time": "2022-06-26T13:38:00.620956",
     "exception": false,
     "start_time": "2022-06-26T13:38:00.603329",
     "status": "completed"
    },
    "tags": []
   },
   "outputs": [
    {
     "name": "stdout",
     "output_type": "stream",
     "text": [
      "Best Threshold=0.001923, G-Mean=0.771\n"
     ]
    }
   ],
   "source": [
    "# calculate the g-mean for each threshold\n",
    "gmeans = sqrt(logistic_tpr * (1-logistic_fpr))\n",
    "# locate the index of the largest g-mean\n",
    "ix = argmax(gmeans)\n",
    "print('Best Threshold=%f, G-Mean=%.3f' % (logistic_threshold[ix], gmeans[ix]))"
   ]
  },
  {
   "cell_type": "code",
   "execution_count": null,
   "id": "43f72988",
   "metadata": {
    "papermill": {
     "duration": 0.006895,
     "end_time": "2022-06-26T13:38:00.634998",
     "exception": false,
     "start_time": "2022-06-26T13:38:00.628103",
     "status": "completed"
    },
    "tags": []
   },
   "outputs": [],
   "source": []
  }
 ],
 "metadata": {
  "kernelspec": {
   "display_name": "Python 3",
   "language": "python",
   "name": "python3"
  },
  "language_info": {
   "codemirror_mode": {
    "name": "ipython",
    "version": 3
   },
   "file_extension": ".py",
   "mimetype": "text/x-python",
   "name": "python",
   "nbconvert_exporter": "python",
   "pygments_lexer": "ipython3",
   "version": "3.7.12"
  },
  "papermill": {
   "default_parameters": {},
   "duration": 12.834263,
   "end_time": "2022-06-26T13:38:01.363997",
   "environment_variables": {},
   "exception": null,
   "input_path": "__notebook__.ipynb",
   "output_path": "__notebook__.ipynb",
   "parameters": {},
   "start_time": "2022-06-26T13:37:48.529734",
   "version": "2.3.4"
  }
 },
 "nbformat": 4,
 "nbformat_minor": 5
}
