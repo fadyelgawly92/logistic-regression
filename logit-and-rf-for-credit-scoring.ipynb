{
 "cells": [
  {
   "cell_type": "markdown",
   "metadata": {
    "_uuid": "b61a17511d9e5e3ccb732c0210ba185c169f69ac"
   },
   "source": [
    "<center>\n",
    "<img src=\"https://habrastorage.org/files/fd4/502/43d/fd450243dd604b81b9713213a247aa20.jpg\">\n",
    "## Open Machine Learning Course [mlcourse.ai](https://mlcourse.ai)\n",
    "<center>\n",
    "\n",
    "Author: Vitaly Radchenko (@vradchenko). This material is subject to the terms and conditions of the [Creative Commons CC BY-NC-SA 4.0](https://creativecommons.org/licenses/by-nc-sa/4.0/) license. Free use is permitted for any non-commercial purpose."
   ]
  },
  {
   "cell_type": "markdown",
   "metadata": {
    "_uuid": "d1a67717ad3317664bf3d108f1f0b0480dd79c63"
   },
   "source": [
    "# <center>Assignment # 5 (demo)</center>\n",
    "## <center>Logistic Regression and Random Forest in the credit scoring problem</center>  "
   ]
  },
  {
   "cell_type": "markdown",
   "metadata": {
    "_uuid": "7dbf48ad8bbb6a239269064331db677929a5fa3c"
   },
   "source": [
    "In this assignment, you will build models and answer questions using data on credit scoring.\n",
    "\n",
    "Please write your code in the cells with the \"Your code here\" placeholder. Then, answer the questions in the [form](https://docs.google.com/forms/d/1gKt0DA4So8ohKAHZNCk58ezvg7K_tik26d9QND7WC6M/edit).\n",
    "\n",
    "Let's start with a warm-up exercise."
   ]
  },
  {
   "cell_type": "markdown",
   "metadata": {
    "_uuid": "5ffc2f53b8f50650fd793336a20a9f0807b8529a"
   },
   "source": [
    "**Question 1.** There are 5 jurors in a courtroom. Each of them can correctly identify the guilt of the defendant with 70% probability, independent of one another. What is the probability that the jurors will jointly reach the correct verdict if the final decision is by majority vote?\n",
    "\n",
    "1. 70.00%\n",
    "2. 83.20%\n",
    "3. 83.70%\n",
    "4. 87.50%"
   ]
  },
  {
   "cell_type": "markdown",
   "metadata": {
    "_uuid": "7ff86c79a045fcfc6bf8211e539c3ab75a45181b"
   },
   "source": [
    "Great! Let's move on to machine learning.\n",
    "\n",
    "## Credit scoring problem setup\n",
    "\n",
    "#### Problem\n",
    "\n",
    "Predict whether the customer will repay their credit within 90 days. This is a binary classification problem; we will assign customers into good or bad categories based on our prediction.\n",
    "\n",
    "#### Data description\n",
    "\n",
    "| Feature | Variable Type | Value Type | Description |\n",
    "|:--------|:--------------|:-----------|:------------|\n",
    "| age | Input Feature | integer | Customer age |\n",
    "| DebtRatio | Input Feature | real | Total monthly loan payments (loan, alimony, etc.) / Total monthly income percentage |\n",
    "| NumberOfTime30-59DaysPastDueNotWorse | Input Feature | integer | The number of cases when client has overdue 30-59 days (not worse) on other loans during the last 2 years |\n",
    "| NumberOfTimes90DaysLate | Input Feature | integer | Number of cases when customer had 90+dpd overdue on other credits |\n",
    "| NumberOfTime60-89DaysPastDueNotWorse | Input Feature | integer | Number of cased when customer has 60-89dpd (not worse) during the last 2 years |\n",
    "| NumberOfDependents | Input Feature | integer | The number of customer dependents |\n",
    "| SeriousDlqin2yrs | Target Variable | binary: <br>0 or 1 | Customer hasn't paid the loan debt within 90 days |\n"
   ]
  },
  {
   "cell_type": "markdown",
   "metadata": {
    "_uuid": "258acae393c2c65de1b7c1ac581f0917009f58b9"
   },
   "source": [
    "Let's set up our environment:"
   ]
  },
  {
   "cell_type": "code",
   "execution_count": 1,
   "metadata": {
    "_uuid": "958b2cd2a45ac297fb144c47f2e993e0a5fab169",
    "execution": {
     "iopub.execute_input": "2022-06-27T19:40:47.339213Z",
     "iopub.status.busy": "2022-06-27T19:40:47.338886Z",
     "iopub.status.idle": "2022-06-27T19:40:47.730681Z",
     "shell.execute_reply": "2022-06-27T19:40:47.729271Z",
     "shell.execute_reply.started": "2022-06-27T19:40:47.339159Z"
    }
   },
   "outputs": [],
   "source": [
    "# Disable warnings in Anaconda\n",
    "import warnings\n",
    "warnings.filterwarnings('ignore')\n",
    "\n",
    "import numpy as np\n",
    "import pandas as pd\n",
    "%matplotlib inline\n",
    "import matplotlib.pyplot as plt\n",
    "import seaborn as sns\n",
    "sns.set()"
   ]
  },
  {
   "cell_type": "code",
   "execution_count": 2,
   "metadata": {
    "_uuid": "57846c0c4a90698c2d1e4577a1d338566a0511d2",
    "execution": {
     "iopub.execute_input": "2022-06-27T19:40:47.732740Z",
     "iopub.status.busy": "2022-06-27T19:40:47.732386Z",
     "iopub.status.idle": "2022-06-27T19:40:47.738730Z",
     "shell.execute_reply": "2022-06-27T19:40:47.736866Z",
     "shell.execute_reply.started": "2022-06-27T19:40:47.732690Z"
    }
   },
   "outputs": [],
   "source": [
    "from matplotlib import rcParams\n",
    "rcParams['figure.figsize'] = 11, 8"
   ]
  },
  {
   "cell_type": "markdown",
   "metadata": {
    "_uuid": "2e2cb4aaa7a07017c00bfa8621a8c1ff91e980e0"
   },
   "source": [
    "Let's write the function that will replace *NaN* values with the median for each column."
   ]
  },
  {
   "cell_type": "code",
   "execution_count": 3,
   "metadata": {
    "_uuid": "d4b4c073dc7d54908594df01f032b249b2ee461e",
    "execution": {
     "iopub.execute_input": "2022-06-27T19:40:47.740924Z",
     "iopub.status.busy": "2022-06-27T19:40:47.740518Z",
     "iopub.status.idle": "2022-06-27T19:40:47.752673Z",
     "shell.execute_reply": "2022-06-27T19:40:47.751548Z",
     "shell.execute_reply.started": "2022-06-27T19:40:47.740856Z"
    }
   },
   "outputs": [],
   "source": [
    "def fill_nan(table):\n",
    "    for col in table.columns:\n",
    "        table[col] = table[col].fillna(table[col].median())\n",
    "    return table   "
   ]
  },
  {
   "cell_type": "markdown",
   "metadata": {
    "_uuid": "c0961fa0182a6b2fc8cda93c5a6e2112234e5fba"
   },
   "source": [
    "Now, read the data:"
   ]
  },
  {
   "cell_type": "code",
   "execution_count": 4,
   "metadata": {
    "_uuid": "63c902c7d1d18943bd460ee15c73d8a10e5d8ff3",
    "execution": {
     "iopub.execute_input": "2022-06-27T19:40:47.755699Z",
     "iopub.status.busy": "2022-06-27T19:40:47.755168Z",
     "iopub.status.idle": "2022-06-27T19:40:47.866163Z",
     "shell.execute_reply": "2022-06-27T19:40:47.865104Z",
     "shell.execute_reply.started": "2022-06-27T19:40:47.755620Z"
    }
   },
   "outputs": [
    {
     "data": {
      "text/html": [
       "<div>\n",
       "<style scoped>\n",
       "    .dataframe tbody tr th:only-of-type {\n",
       "        vertical-align: middle;\n",
       "    }\n",
       "\n",
       "    .dataframe tbody tr th {\n",
       "        vertical-align: top;\n",
       "    }\n",
       "\n",
       "    .dataframe thead th {\n",
       "        text-align: right;\n",
       "    }\n",
       "</style>\n",
       "<table border=\"1\" class=\"dataframe\">\n",
       "  <thead>\n",
       "    <tr style=\"text-align: right;\">\n",
       "      <th></th>\n",
       "      <th>SeriousDlqin2yrs</th>\n",
       "      <th>age</th>\n",
       "      <th>NumberOfTime30-59DaysPastDueNotWorse</th>\n",
       "      <th>DebtRatio</th>\n",
       "      <th>NumberOfTimes90DaysLate</th>\n",
       "      <th>NumberOfTime60-89DaysPastDueNotWorse</th>\n",
       "      <th>MonthlyIncome</th>\n",
       "      <th>NumberOfDependents</th>\n",
       "    </tr>\n",
       "  </thead>\n",
       "  <tbody>\n",
       "    <tr>\n",
       "      <th>0</th>\n",
       "      <td>0</td>\n",
       "      <td>64</td>\n",
       "      <td>0</td>\n",
       "      <td>0.249908</td>\n",
       "      <td>0</td>\n",
       "      <td>0</td>\n",
       "      <td>8158.0</td>\n",
       "      <td>0.0</td>\n",
       "    </tr>\n",
       "    <tr>\n",
       "      <th>1</th>\n",
       "      <td>0</td>\n",
       "      <td>58</td>\n",
       "      <td>0</td>\n",
       "      <td>3870.000000</td>\n",
       "      <td>0</td>\n",
       "      <td>0</td>\n",
       "      <td>NaN</td>\n",
       "      <td>0.0</td>\n",
       "    </tr>\n",
       "    <tr>\n",
       "      <th>2</th>\n",
       "      <td>0</td>\n",
       "      <td>41</td>\n",
       "      <td>0</td>\n",
       "      <td>0.456127</td>\n",
       "      <td>0</td>\n",
       "      <td>0</td>\n",
       "      <td>6666.0</td>\n",
       "      <td>0.0</td>\n",
       "    </tr>\n",
       "    <tr>\n",
       "      <th>3</th>\n",
       "      <td>0</td>\n",
       "      <td>43</td>\n",
       "      <td>0</td>\n",
       "      <td>0.000190</td>\n",
       "      <td>0</td>\n",
       "      <td>0</td>\n",
       "      <td>10500.0</td>\n",
       "      <td>2.0</td>\n",
       "    </tr>\n",
       "    <tr>\n",
       "      <th>4</th>\n",
       "      <td>1</td>\n",
       "      <td>49</td>\n",
       "      <td>0</td>\n",
       "      <td>0.271820</td>\n",
       "      <td>0</td>\n",
       "      <td>0</td>\n",
       "      <td>400.0</td>\n",
       "      <td>0.0</td>\n",
       "    </tr>\n",
       "  </tbody>\n",
       "</table>\n",
       "</div>"
      ],
      "text/plain": [
       "   SeriousDlqin2yrs  age         ...          MonthlyIncome  NumberOfDependents\n",
       "0                 0   64         ...                 8158.0                 0.0\n",
       "1                 0   58         ...                    NaN                 0.0\n",
       "2                 0   41         ...                 6666.0                 0.0\n",
       "3                 0   43         ...                10500.0                 2.0\n",
       "4                 1   49         ...                  400.0                 0.0\n",
       "\n",
       "[5 rows x 8 columns]"
      ]
     },
     "execution_count": 4,
     "metadata": {},
     "output_type": "execute_result"
    }
   ],
   "source": [
    "data = pd.read_csv('../input/credit_scoring_sample.csv')\n",
    "data.head()"
   ]
  },
  {
   "cell_type": "markdown",
   "metadata": {
    "_uuid": "474023002b2a33fd2981180400c2f71050577c7d"
   },
   "source": [
    "Look at the variable types:"
   ]
  },
  {
   "cell_type": "code",
   "execution_count": 5,
   "metadata": {
    "_uuid": "8fdf8aa51c7febd4ee2d7914129888b01703b716",
    "execution": {
     "iopub.execute_input": "2022-06-27T19:40:47.871584Z",
     "iopub.status.busy": "2022-06-27T19:40:47.870945Z",
     "iopub.status.idle": "2022-06-27T19:40:47.882458Z",
     "shell.execute_reply": "2022-06-27T19:40:47.880798Z",
     "shell.execute_reply.started": "2022-06-27T19:40:47.871463Z"
    }
   },
   "outputs": [
    {
     "data": {
      "text/plain": [
       "SeriousDlqin2yrs                          int64\n",
       "age                                       int64\n",
       "NumberOfTime30-59DaysPastDueNotWorse      int64\n",
       "DebtRatio                               float64\n",
       "NumberOfTimes90DaysLate                   int64\n",
       "NumberOfTime60-89DaysPastDueNotWorse      int64\n",
       "MonthlyIncome                           float64\n",
       "NumberOfDependents                      float64\n",
       "dtype: object"
      ]
     },
     "execution_count": 5,
     "metadata": {},
     "output_type": "execute_result"
    }
   ],
   "source": [
    "data.dtypes"
   ]
  },
  {
   "cell_type": "markdown",
   "metadata": {
    "_uuid": "4833aaafffd639f230f63c9e42e4919cbbd6210a"
   },
   "source": [
    "Check the class balance:"
   ]
  },
  {
   "cell_type": "code",
   "execution_count": 6,
   "metadata": {
    "_uuid": "35216e0b707d378f851ea1bc9602890998e1ec97",
    "execution": {
     "iopub.execute_input": "2022-06-27T19:40:47.885286Z",
     "iopub.status.busy": "2022-06-27T19:40:47.884495Z",
     "iopub.status.idle": "2022-06-27T19:40:48.383962Z",
     "shell.execute_reply": "2022-06-27T19:40:48.382881Z",
     "shell.execute_reply.started": "2022-06-27T19:40:47.885221Z"
    }
   },
   "outputs": [
    {
     "name": "stdout",
     "output_type": "stream",
     "text": [
      "Distribution of the target:\n"
     ]
    },
    {
     "data": {
      "text/plain": [
       "0    0.777511\n",
       "1    0.222489\n",
       "Name: SeriousDlqin2yrs, dtype: float64"
      ]
     },
     "execution_count": 6,
     "metadata": {},
     "output_type": "execute_result"
    },
    {
     "data": {
      "image/png": "[encoded data removed]",
      "text/plain": [
       "<Figure size 792x576 with 1 Axes>"
      ]
     },
     "metadata": {},
     "output_type": "display_data"
    }
   ],
   "source": [
    "ax = data['SeriousDlqin2yrs'].hist(orientation='horizontal', color='red')\n",
    "ax.set_xlabel(\"number_of_observations\")\n",
    "ax.set_ylabel(\"unique_value\")\n",
    "ax.set_title(\"Target distribution\")\n",
    "\n",
    "print('Distribution of the target:')\n",
    "data['SeriousDlqin2yrs'].value_counts()/data.shape[0]"
   ]
  },
  {
   "cell_type": "markdown",
   "metadata": {
    "_uuid": "5a4cb242e76c3b015679850caac7b14db8fa1359"
   },
   "source": [
    "Separate the input variable names by excluding the target:"
   ]
  },
  {
   "cell_type": "code",
   "execution_count": 7,
   "metadata": {
    "_uuid": "4d6c4a84ed3fcb2447f11b1d0a08a0b4fefcbaf7",
    "execution": {
     "iopub.execute_input": "2022-06-27T19:40:48.387799Z",
     "iopub.status.busy": "2022-06-27T19:40:48.387420Z",
     "iopub.status.idle": "2022-06-27T19:40:48.395533Z",
     "shell.execute_reply": "2022-06-27T19:40:48.394529Z",
     "shell.execute_reply.started": "2022-06-27T19:40:48.387733Z"
    }
   },
   "outputs": [
    {
     "data": {
      "text/plain": [
       "['age',\n",
       " 'NumberOfTime30-59DaysPastDueNotWorse',\n",
       " 'DebtRatio',\n",
       " 'NumberOfTimes90DaysLate',\n",
       " 'NumberOfTime60-89DaysPastDueNotWorse',\n",
       " 'MonthlyIncome',\n",
       " 'NumberOfDependents']"
      ]
     },
     "execution_count": 7,
     "metadata": {},
     "output_type": "execute_result"
    }
   ],
   "source": [
    "independent_columns_names = [x for x in data if x != 'SeriousDlqin2yrs']\n",
    "independent_columns_names"
   ]
  },
  {
   "cell_type": "markdown",
   "metadata": {
    "_uuid": "ad909484de236ecaf28a596fd5570aa11c07ee43"
   },
   "source": [
    "Apply the function to replace *NaN* values:"
   ]
  },
  {
   "cell_type": "code",
   "execution_count": 8,
   "metadata": {
    "_uuid": "4e1e6638b8c50ee094b8d9f3af693fda035aa8c4",
    "execution": {
     "iopub.execute_input": "2022-06-27T19:40:48.397624Z",
     "iopub.status.busy": "2022-06-27T19:40:48.397035Z",
     "iopub.status.idle": "2022-06-27T19:40:48.422587Z",
     "shell.execute_reply": "2022-06-27T19:40:48.421760Z",
     "shell.execute_reply.started": "2022-06-27T19:40:48.397556Z"
    }
   },
   "outputs": [],
   "source": [
    "table = fill_nan(data)"
   ]
  },
  {
   "cell_type": "markdown",
   "metadata": {
    "_uuid": "9b13ec032da4e9b7eab544694132b8f58d9d5adf"
   },
   "source": [
    "Separate the target variable and input features:"
   ]
  },
  {
   "cell_type": "code",
   "execution_count": 9,
   "metadata": {
    "_uuid": "55248eae34b1abf6337dbce543195d9adef29e19",
    "execution": {
     "iopub.execute_input": "2022-06-27T19:40:48.424842Z",
     "iopub.status.busy": "2022-06-27T19:40:48.424208Z",
     "iopub.status.idle": "2022-06-27T19:40:48.434000Z",
     "shell.execute_reply": "2022-06-27T19:40:48.432773Z",
     "shell.execute_reply.started": "2022-06-27T19:40:48.424774Z"
    }
   },
   "outputs": [],
   "source": [
    "X = table[independent_columns_names]\n",
    "y = table['SeriousDlqin2yrs']"
   ]
  },
  {
   "cell_type": "markdown",
   "metadata": {
    "_uuid": "42b04e39e04e71871fb2ff1db2295034465d8cbd"
   },
   "source": [
    "## Bootstrapping"
   ]
  },
  {
   "cell_type": "markdown",
   "metadata": {
    "_uuid": "245e80eb69b9faba586538ecf6bd0343e0748abb"
   },
   "source": [
    "**Question 2.** Make an interval estimate of the average age for the customers who delayed repayment at the 90% confidence level. Use the example from the article as reference, if needed. Also, use `np.random.seed(0)` as before. What is the resulting interval estimate?\n",
    "\n",
    "1. 52.59 – 52.86\n",
    "2. 45.71 – 46.13\n",
    "3. 45.68 – 46.17\n",
    "4. 52.56 – 52.88"
   ]
  },
  {
   "cell_type": "code",
   "execution_count": 10,
   "metadata": {
    "_uuid": "0f42f4204cfa87434c31e5e09e270a42bd61850c",
    "execution": {
     "iopub.execute_input": "2022-06-27T19:40:48.437498Z",
     "iopub.status.busy": "2022-06-27T19:40:48.436500Z",
     "iopub.status.idle": "2022-06-27T19:40:49.281112Z",
     "shell.execute_reply": "2022-06-27T19:40:49.280169Z",
     "shell.execute_reply.started": "2022-06-27T19:40:48.437392Z"
    }
   },
   "outputs": [
    {
     "name": "stdout",
     "output_type": "stream",
     "text": [
      "Mean interval [45.71751945 46.12980251]\n"
     ]
    }
   ],
   "source": [
    "def get_bootstrap_samples(data, n_samples):\n",
    "    \"\"\"Generate samples using bootstrapping.\"\"\"\n",
    "    indices = np.random.randint(0, len(data), (n_samples, len(data)))\n",
    "    samples = data[indices]\n",
    "    return samples\n",
    "\n",
    "def stat_intervals(stat, alpha):\n",
    "    \"\"\"Make an interval estimate.\"\"\"\n",
    "    boundaries = np.percentile(stat, [100 * alpha / 2., 100 * (1 - alpha / 2.)])\n",
    "    return boundaries\n",
    "\n",
    "# Your code here# Save the ages of those who let a delay\n",
    "churn = data[data['SeriousDlqin2yrs'] == 1]['age'].values\n",
    "\n",
    "# Set the random seed for reproducibility \n",
    "np.random.seed(0)\n",
    "\n",
    "samples = get_bootstrap_samples(churn, 1000)\n",
    "\n",
    "# Generate bootstrap samples and calculate the mean for each sample\n",
    "churn_mean_scores = [np.mean(sample) for sample in get_bootstrap_samples(churn, 1000)]\n",
    "\n",
    "# Print the interval estimate for the sample means\n",
    "print(\"Mean interval\", stat_intervals(churn_mean_scores, 0.1))"
   ]
  },
  {
   "cell_type": "markdown",
   "metadata": {
    "_uuid": "0aa59947da5e312e6bb5067bb16ae656a8a8e500"
   },
   "source": [
    "## Logistic regression"
   ]
  },
  {
   "cell_type": "markdown",
   "metadata": {
    "_uuid": "4f046164d4d94ed0b2ee0ebe7f4bfff460d0505a"
   },
   "source": [
    "Let's set up to use logistic regression:"
   ]
  },
  {
   "cell_type": "code",
   "execution_count": 11,
   "metadata": {
    "_uuid": "fea9173ba030a164de7d4da05d83bce7a881e92f",
    "execution": {
     "iopub.execute_input": "2022-06-27T19:40:49.283106Z",
     "iopub.status.busy": "2022-06-27T19:40:49.282816Z",
     "iopub.status.idle": "2022-06-27T19:40:49.502023Z",
     "shell.execute_reply": "2022-06-27T19:40:49.500993Z",
     "shell.execute_reply.started": "2022-06-27T19:40:49.283039Z"
    }
   },
   "outputs": [],
   "source": [
    "from sklearn.linear_model import LogisticRegression\n",
    "from sklearn.model_selection import GridSearchCV, StratifiedKFold"
   ]
  },
  {
   "cell_type": "markdown",
   "metadata": {
    "_uuid": "c44b5d33184b81809b2747b2d2f5150b13b65e8f"
   },
   "source": [
    "Now, we will create a `LogisticRegression` model and use `class_weight='balanced'` to make up for our unbalanced classes."
   ]
  },
  {
   "cell_type": "code",
   "execution_count": 12,
   "metadata": {
    "_uuid": "92292d0240a272fc6c3948069ef2fc0b9f165926",
    "execution": {
     "iopub.execute_input": "2022-06-27T19:40:49.504324Z",
     "iopub.status.busy": "2022-06-27T19:40:49.504012Z",
     "iopub.status.idle": "2022-06-27T19:40:49.508812Z",
     "shell.execute_reply": "2022-06-27T19:40:49.508001Z",
     "shell.execute_reply.started": "2022-06-27T19:40:49.504264Z"
    }
   },
   "outputs": [],
   "source": [
    "lr = LogisticRegression(random_state=5, class_weight='balanced')"
   ]
  },
  {
   "cell_type": "markdown",
   "metadata": {
    "_uuid": "24e5007b98c985443af75a02a858e85fc72a693a"
   },
   "source": [
    "Let's try to find the best regularization coefficient, which is the coefficient `C` for logistic regression. Then, we will have an optimal model that is not overfit and is a good predictor of the target variable."
   ]
  },
  {
   "cell_type": "code",
   "execution_count": 13,
   "metadata": {
    "_uuid": "77fff55d1042a6b6b906e4f8af2e977966e9ad55",
    "execution": {
     "iopub.execute_input": "2022-06-27T19:40:49.510248Z",
     "iopub.status.busy": "2022-06-27T19:40:49.509967Z",
     "iopub.status.idle": "2022-06-27T19:40:49.525192Z",
     "shell.execute_reply": "2022-06-27T19:40:49.523710Z",
     "shell.execute_reply.started": "2022-06-27T19:40:49.510193Z"
    }
   },
   "outputs": [],
   "source": [
    "parameters = {'C': (0.0001, 0.001, 0.01, 0.1, 1, 10)}"
   ]
  },
  {
   "cell_type": "markdown",
   "metadata": {
    "_uuid": "c350a2bb023dd8ea2261fefee539ae70408586e6"
   },
   "source": [
    "In order to find the optimal value of `C`, let's apply stratified 5-fold validation and look at the *ROC AUC* against different values of the parameter `C`. Use the `StratifiedKFold` function for this: "
   ]
  },
  {
   "cell_type": "code",
   "execution_count": 14,
   "metadata": {
    "_uuid": "296cc7dbf4b702d3170f3515f4c431da8dd02486",
    "execution": {
     "iopub.execute_input": "2022-06-27T19:40:49.528121Z",
     "iopub.status.busy": "2022-06-27T19:40:49.527699Z",
     "iopub.status.idle": "2022-06-27T19:40:49.543262Z",
     "shell.execute_reply": "2022-06-27T19:40:49.541594Z",
     "shell.execute_reply.started": "2022-06-27T19:40:49.528055Z"
    }
   },
   "outputs": [],
   "source": [
    "skf = StratifiedKFold(n_splits=5, shuffle=True, random_state=5)"
   ]
  },
  {
   "cell_type": "markdown",
   "metadata": {
    "_uuid": "f0bd594310bed9b8664fccbad367ec40b2494ef9"
   },
   "source": [
    "One of the important metrics of model quality is the *Area Under the Curve (AUC)*. *ROC AUC* varies from 0 to 1. The closer ROC AUC is to 1, the better the quality of the classification model."
   ]
  },
  {
   "cell_type": "markdown",
   "metadata": {
    "_uuid": "47ff20f56a9496a90057141c671f4534c4d8f435"
   },
   "source": [
    "**Question 3.** Perform a *Grid Search* with the scoring metric \"roc_auc\" for the parameter `C`. Which value of the parameter `C` is optimal? \n",
    "\n",
    "1. 0.0001\n",
    "2. 0.001\n",
    "3. 0.01\n",
    "4. 0.1\n",
    "5. 1\n",
    "6. 10"
   ]
  },
  {
   "cell_type": "code",
   "execution_count": 15,
   "metadata": {
    "execution": {
     "iopub.execute_input": "2022-06-27T19:40:49.547952Z",
     "iopub.status.busy": "2022-06-27T19:40:49.547400Z",
     "iopub.status.idle": "2022-06-27T19:40:49.558366Z",
     "shell.execute_reply": "2022-06-27T19:40:49.557366Z",
     "shell.execute_reply.started": "2022-06-27T19:40:49.547860Z"
    }
   },
   "outputs": [],
   "source": [
    "#Take a subset of train for grid search. Let us take 10% for now\n",
    "# from sklearn.model_selection import train_test_split\n",
    "# X_train, X_test, y_train, y_test = train_test_split(X, y, test_size=0.2, random_state=42)"
   ]
  },
  {
   "cell_type": "code",
   "execution_count": 16,
   "metadata": {
    "execution": {
     "iopub.execute_input": "2022-06-27T19:40:49.561448Z",
     "iopub.status.busy": "2022-06-27T19:40:49.561094Z",
     "iopub.status.idle": "2022-06-27T19:40:49.591944Z",
     "shell.execute_reply": "2022-06-27T19:40:49.590691Z",
     "shell.execute_reply.started": "2022-06-27T19:40:49.561386Z"
    }
   },
   "outputs": [
    {
     "name": "stderr",
     "output_type": "stream",
     "text": [
      "/opt/conda/lib/python3.6/site-packages/sklearn/preprocessing/data.py:645: DataConversionWarning: Data with input dtype int64, float64 were all converted to float64 by StandardScaler.\n",
      "  return self.partial_fit(X, y)\n",
      "/opt/conda/lib/python3.6/site-packages/sklearn/base.py:464: DataConversionWarning: Data with input dtype int64, float64 were all converted to float64 by StandardScaler.\n",
      "  return self.fit(X, **fit_params).transform(X)\n"
     ]
    }
   ],
   "source": [
    "from sklearn.preprocessing import StandardScaler\n",
    "sc_X = StandardScaler()\n",
    "scaled_X = sc_X.fit_transform(X)\n",
    "# X_test = sc_X.transform(X_test)"
   ]
  },
  {
   "cell_type": "code",
   "execution_count": 17,
   "metadata": {
    "_uuid": "ea814fc22242f846757a81fda5d63b1e8d71b81c",
    "execution": {
     "iopub.execute_input": "2022-06-27T19:40:49.595108Z",
     "iopub.status.busy": "2022-06-27T19:40:49.594713Z",
     "iopub.status.idle": "2022-06-27T19:41:15.590248Z",
     "shell.execute_reply": "2022-06-27T19:41:15.588859Z",
     "shell.execute_reply.started": "2022-06-27T19:40:49.595046Z"
    }
   },
   "outputs": [],
   "source": [
    "# Your code here\n",
    "grid = GridSearchCV(estimator=lr,param_grid=parameters,scoring='roc_auc',n_jobs=16,cv=skf)\n",
    "grid_result = grid.fit(scaled_X,y)"
   ]
  },
  {
   "cell_type": "code",
   "execution_count": 18,
   "metadata": {
    "execution": {
     "iopub.execute_input": "2022-06-27T19:41:15.597784Z",
     "iopub.status.busy": "2022-06-27T19:41:15.592292Z",
     "iopub.status.idle": "2022-06-27T19:41:15.649163Z",
     "shell.execute_reply": "2022-06-27T19:41:15.647727Z",
     "shell.execute_reply.started": "2022-06-27T19:41:15.597676Z"
    }
   },
   "outputs": [
    {
     "name": "stdout",
     "output_type": "stream",
     "text": [
      "Best Score: 0.787840 using {'C': 10}\n",
      "Best estimator:  LogisticRegression(C=10, class_weight='balanced', dual=False,\n",
      "          fit_intercept=True, intercept_scaling=1, max_iter=100,\n",
      "          multi_class='warn', n_jobs=None, penalty='l2', random_state=5,\n",
      "          solver='warn', tol=0.0001, verbose=0, warm_start=False)\n",
      "Mean = 0.664738 (std=0.007243) with: {'C': 0.0001}\n",
      "Mean = 0.709369 (std=0.008446) with: {'C': 0.001}\n",
      "Mean = 0.771976 (std=0.008616) with: {'C': 0.01}\n",
      "Mean = 0.786382 (std=0.008315) with: {'C': 0.1}\n",
      "Mean = 0.787725 (std=0.008386) with: {'C': 1}\n",
      "Mean = 0.787840 (std=0.008395) with: {'C': 10}\n"
     ]
    }
   ],
   "source": [
    "# summarize results\n",
    "print(\"Best Score: %f using %s\" % (grid_result.best_score_, grid_result.best_params_))\n",
    "print(\"Best estimator:  %s\" % (grid_result.best_estimator_))\n",
    "means = grid_result.cv_results_['mean_test_score']\n",
    "stds = grid_result.cv_results_['std_test_score']\n",
    "params = grid_result.cv_results_['params']\n",
    "for mean, stdev, param in zip(means,stds,params):\n",
    "     print(\"Mean = %f (std=%f) with: %r\" % (mean, stdev, param))"
   ]
  },
  {
   "cell_type": "markdown",
   "metadata": {
    "_uuid": "ca2e0d2ea8660f676352b0bd60e44e27b621f87a"
   },
   "source": [
    "**Question 4.** Can we consider the best model stable? The model is *stable* if the standard deviation on validation is less than 0.5%. Save the *ROC AUC* value of the best model; it will be useful for the following tasks.\n",
    "\n",
    "1. Yes\n",
    "2. No"
   ]
  },
  {
   "cell_type": "code",
   "execution_count": 19,
   "metadata": {
    "_uuid": "27e2211b96120fad6ed989c4b55a033184b442ac",
    "execution": {
     "iopub.execute_input": "2022-06-27T19:41:15.651963Z",
     "iopub.status.busy": "2022-06-27T19:41:15.651184Z",
     "iopub.status.idle": "2022-06-27T19:41:16.537324Z",
     "shell.execute_reply": "2022-06-27T19:41:16.535968Z",
     "shell.execute_reply.started": "2022-06-27T19:41:15.651889Z"
    }
   },
   "outputs": [
    {
     "data": {
      "text/plain": [
       "LogisticRegression(C=0.001, class_weight='balanced', dual=False,\n",
       "          fit_intercept=True, intercept_scaling=1, max_iter=100,\n",
       "          multi_class='warn', n_jobs=None, penalty='l2', random_state=5,\n",
       "          solver='warn', tol=0.0001, verbose=0, warm_start=False)"
      ]
     },
     "execution_count": 19,
     "metadata": {},
     "output_type": "execute_result"
    }
   ],
   "source": [
    "# Your code here\n",
    "lr = LogisticRegression(C=0.001, random_state=5, class_weight='balanced')\n",
    "lr.fit(scaled_X,y)"
   ]
  },
  {
   "cell_type": "code",
   "execution_count": 20,
   "metadata": {
    "execution": {
     "iopub.execute_input": "2022-06-27T19:41:16.550062Z",
     "iopub.status.busy": "2022-06-27T19:41:16.545215Z",
     "iopub.status.idle": "2022-06-27T19:41:16.566721Z",
     "shell.execute_reply": "2022-06-27T19:41:16.565076Z",
     "shell.execute_reply.started": "2022-06-27T19:41:16.549942Z"
    }
   },
   "outputs": [
    {
     "name": "stdout",
     "output_type": "stream",
     "text": [
      "[-0.41630367876661845, 0.7240043158997218, -0.024081864811944072, 0.5176729154132286, 0.19473216576813426, -0.16286352968630483, 0.10132602508139427]\n"
     ]
    }
   ],
   "source": [
    "print(lr.coef_.reshape(-1).tolist())"
   ]
  },
  {
   "cell_type": "code",
   "execution_count": 21,
   "metadata": {
    "execution": {
     "iopub.execute_input": "2022-06-27T19:41:16.589517Z",
     "iopub.status.busy": "2022-06-27T19:41:16.583189Z",
     "iopub.status.idle": "2022-06-27T19:41:16.603047Z",
     "shell.execute_reply": "2022-06-27T19:41:16.601802Z",
     "shell.execute_reply.started": "2022-06-27T19:41:16.589380Z"
    }
   },
   "outputs": [
    {
     "name": "stdout",
     "output_type": "stream",
     "text": [
      "[[-0.41630368  0.72400432 -0.02408186  0.51767292  0.19473217 -0.16286353\n",
      "   0.10132603]]\n"
     ]
    }
   ],
   "source": [
    "print(lr.coef_)"
   ]
  },
  {
   "cell_type": "markdown",
   "metadata": {
    "_uuid": "eed75eaefb5defeaef3a062d957171c02f94868c"
   },
   "source": [
    "## Feature importance\n",
    "\n",
    "**Question 5.** *Feature importance* is defined by the absolute value of its corresponding coefficient. First, you need to normalize all of the feature values so that it will be valid to compare them. What is the most important feature for the best logistic regression model?\n",
    "\n",
    "1. age\n",
    "2. NumberOfTime30-59DaysPastDueNotWorse\n",
    "3. DebtRatio\n",
    "4. NumberOfTimes90DaysLate\n",
    "5. NumberOfTime60-89DaysPastDueNotWorse\n",
    "6. MonthlyIncome\n",
    "7. NumberOfDependents"
   ]
  },
  {
   "cell_type": "code",
   "execution_count": 22,
   "metadata": {
    "_uuid": "42af010963a6d4c1526c3499031dcec274a2b460",
    "execution": {
     "iopub.execute_input": "2022-06-27T19:41:16.609890Z",
     "iopub.status.busy": "2022-06-27T19:41:16.606455Z",
     "iopub.status.idle": "2022-06-27T19:41:16.698950Z",
     "shell.execute_reply": "2022-06-27T19:41:16.697726Z",
     "shell.execute_reply.started": "2022-06-27T19:41:16.609618Z"
    }
   },
   "outputs": [
    {
     "data": {
      "text/html": [
       "<div>\n",
       "<style scoped>\n",
       "    .dataframe tbody tr th:only-of-type {\n",
       "        vertical-align: middle;\n",
       "    }\n",
       "\n",
       "    .dataframe tbody tr th {\n",
       "        vertical-align: top;\n",
       "    }\n",
       "\n",
       "    .dataframe thead th {\n",
       "        text-align: right;\n",
       "    }\n",
       "</style>\n",
       "<table border=\"1\" class=\"dataframe\">\n",
       "  <thead>\n",
       "    <tr style=\"text-align: right;\">\n",
       "      <th></th>\n",
       "      <th>feat</th>\n",
       "      <th>coef</th>\n",
       "    </tr>\n",
       "  </thead>\n",
       "  <tbody>\n",
       "    <tr>\n",
       "      <th>1</th>\n",
       "      <td>NumberOfTime30-59DaysPastDueNotWorse</td>\n",
       "      <td>0.724004</td>\n",
       "    </tr>\n",
       "    <tr>\n",
       "      <th>3</th>\n",
       "      <td>NumberOfTimes90DaysLate</td>\n",
       "      <td>0.517673</td>\n",
       "    </tr>\n",
       "    <tr>\n",
       "      <th>4</th>\n",
       "      <td>NumberOfTime60-89DaysPastDueNotWorse</td>\n",
       "      <td>0.194732</td>\n",
       "    </tr>\n",
       "    <tr>\n",
       "      <th>6</th>\n",
       "      <td>NumberOfDependents</td>\n",
       "      <td>0.101326</td>\n",
       "    </tr>\n",
       "    <tr>\n",
       "      <th>2</th>\n",
       "      <td>DebtRatio</td>\n",
       "      <td>-0.024082</td>\n",
       "    </tr>\n",
       "    <tr>\n",
       "      <th>5</th>\n",
       "      <td>MonthlyIncome</td>\n",
       "      <td>-0.162864</td>\n",
       "    </tr>\n",
       "    <tr>\n",
       "      <th>0</th>\n",
       "      <td>age</td>\n",
       "      <td>-0.416304</td>\n",
       "    </tr>\n",
       "  </tbody>\n",
       "</table>\n",
       "</div>"
      ],
      "text/plain": [
       "                                   feat      coef\n",
       "1  NumberOfTime30-59DaysPastDueNotWorse  0.724004\n",
       "3               NumberOfTimes90DaysLate  0.517673\n",
       "4  NumberOfTime60-89DaysPastDueNotWorse  0.194732\n",
       "6                    NumberOfDependents  0.101326\n",
       "2                             DebtRatio -0.024082\n",
       "5                         MonthlyIncome -0.162864\n",
       "0                                   age -0.416304"
      ]
     },
     "execution_count": 22,
     "metadata": {},
     "output_type": "execute_result"
    }
   ],
   "source": [
    "# Your code here\n",
    "pd.DataFrame({'feat': independent_columns_names,\n",
    "              'coef': lr.coef_.flatten().tolist()}).sort_values(by='coef', ascending=False)"
   ]
  },
  {
   "cell_type": "markdown",
   "metadata": {
    "_uuid": "a59758c51a56ff502021f9aaccd3493f4c848e16"
   },
   "source": [
    "**Question 6.** Calculate how much `DebtRatio` affects our prediction using the [softmax function](https://en.wikipedia.org/wiki/Softmax_function). What is its value?\n",
    "\n",
    "1. 0.38\n",
    "2. -0.02\n",
    "3. 0.11\n",
    "4. 0.24"
   ]
  },
  {
   "cell_type": "code",
   "execution_count": 23,
   "metadata": {
    "_uuid": "de4195b2f9012f17ad3b2999622404c303d4fd0a",
    "execution": {
     "iopub.execute_input": "2022-06-27T19:41:16.712751Z",
     "iopub.status.busy": "2022-06-27T19:41:16.709008Z",
     "iopub.status.idle": "2022-06-27T19:41:16.730428Z",
     "shell.execute_reply": "2022-06-27T19:41:16.729322Z",
     "shell.execute_reply.started": "2022-06-27T19:41:16.712647Z"
    }
   },
   "outputs": [
    {
     "name": "stdout",
     "output_type": "stream",
     "text": [
      "[[0.07715192 0.2413105  0.11420537 0.19632139 0.14213998 0.09940641\n",
      "  0.12946443]]\n",
      "0.1142053671992826\n"
     ]
    }
   ],
   "source": [
    "# Your code here\n",
    "from sklearn.utils.extmath import softmax\n",
    "print(softmax(lr.coef_))\n",
    "print(softmax(lr.coef_)[0][2])"
   ]
  },
  {
   "cell_type": "code",
   "execution_count": 24,
   "metadata": {
    "execution": {
     "iopub.execute_input": "2022-06-27T19:41:16.744801Z",
     "iopub.status.busy": "2022-06-27T19:41:16.736973Z",
     "iopub.status.idle": "2022-06-27T19:41:16.761826Z",
     "shell.execute_reply": "2022-06-27T19:41:16.760700Z",
     "shell.execute_reply.started": "2022-06-27T19:41:16.744681Z"
    }
   },
   "outputs": [
    {
     "name": "stdout",
     "output_type": "stream",
     "text": [
      "0.11420536719928262\n"
     ]
    }
   ],
   "source": [
    "print((np.exp(lr.coef_[0]) / np.sum(np.exp(lr.coef_[0])))[2])"
   ]
  },
  {
   "cell_type": "markdown",
   "metadata": {
    "_uuid": "82f94fb1ddc235250d7af7156cf69280daa317f5"
   },
   "source": [
    "**Question 7.** Let's see how we can interpret the impact of our features. For this, recalculate the logistic regression with absolute values, that is without scaling. Next, modify the customer's age by adding 20 years, keeping the other features unchanged. How many times will the chance that the customer will not repay their debt increase? You can find an example of the theoretical calculation [here](https://www.unm.edu/~schrader/biostat/bio2/Spr06/lec11.pdf).\n",
    "\n",
    "1. -0.01\n",
    "2. 0.70\n",
    "3. 8.32\n",
    "4. 0.66"
   ]
  },
  {
   "cell_type": "code",
   "execution_count": 25,
   "metadata": {
    "execution": {
     "iopub.execute_input": "2022-06-27T19:41:16.767796Z",
     "iopub.status.busy": "2022-06-27T19:41:16.764128Z",
     "iopub.status.idle": "2022-06-27T19:41:17.269263Z",
     "shell.execute_reply": "2022-06-27T19:41:17.267583Z",
     "shell.execute_reply.started": "2022-06-27T19:41:16.767692Z"
    }
   },
   "outputs": [
    {
     "data": {
      "text/html": [
       "<div>\n",
       "<style scoped>\n",
       "    .dataframe tbody tr th:only-of-type {\n",
       "        vertical-align: middle;\n",
       "    }\n",
       "\n",
       "    .dataframe tbody tr th {\n",
       "        vertical-align: top;\n",
       "    }\n",
       "\n",
       "    .dataframe thead th {\n",
       "        text-align: right;\n",
       "    }\n",
       "</style>\n",
       "<table border=\"1\" class=\"dataframe\">\n",
       "  <thead>\n",
       "    <tr style=\"text-align: right;\">\n",
       "      <th></th>\n",
       "      <th>feat</th>\n",
       "      <th>coef</th>\n",
       "    </tr>\n",
       "  </thead>\n",
       "  <tbody>\n",
       "    <tr>\n",
       "      <th>1</th>\n",
       "      <td>NumberOfTime30-59DaysPastDueNotWorse</td>\n",
       "      <td>0.482349</td>\n",
       "    </tr>\n",
       "    <tr>\n",
       "      <th>3</th>\n",
       "      <td>NumberOfTimes90DaysLate</td>\n",
       "      <td>0.430314</td>\n",
       "    </tr>\n",
       "    <tr>\n",
       "      <th>6</th>\n",
       "      <td>NumberOfDependents</td>\n",
       "      <td>0.115356</td>\n",
       "    </tr>\n",
       "    <tr>\n",
       "      <th>4</th>\n",
       "      <td>NumberOfTime60-89DaysPastDueNotWorse</td>\n",
       "      <td>0.065958</td>\n",
       "    </tr>\n",
       "    <tr>\n",
       "      <th>2</th>\n",
       "      <td>DebtRatio</td>\n",
       "      <td>-0.000011</td>\n",
       "    </tr>\n",
       "    <tr>\n",
       "      <th>5</th>\n",
       "      <td>MonthlyIncome</td>\n",
       "      <td>-0.000011</td>\n",
       "    </tr>\n",
       "    <tr>\n",
       "      <th>0</th>\n",
       "      <td>age</td>\n",
       "      <td>-0.018185</td>\n",
       "    </tr>\n",
       "  </tbody>\n",
       "</table>\n",
       "</div>"
      ],
      "text/plain": [
       "                                   feat      coef\n",
       "1  NumberOfTime30-59DaysPastDueNotWorse  0.482349\n",
       "3               NumberOfTimes90DaysLate  0.430314\n",
       "6                    NumberOfDependents  0.115356\n",
       "4  NumberOfTime60-89DaysPastDueNotWorse  0.065958\n",
       "2                             DebtRatio -0.000011\n",
       "5                         MonthlyIncome -0.000011\n",
       "0                                   age -0.018185"
      ]
     },
     "execution_count": 25,
     "metadata": {},
     "output_type": "execute_result"
    }
   ],
   "source": [
    "lr = LogisticRegression(C=0.001, random_state=5, class_weight='balanced')\n",
    "lr.fit(X, y)\n",
    "\n",
    "pd.DataFrame({'feat': independent_columns_names,\n",
    "              'coef': lr.coef_.flatten().tolist()}).sort_values(by='coef', ascending=False)"
   ]
  },
  {
   "cell_type": "code",
   "execution_count": 26,
   "metadata": {
    "execution": {
     "iopub.execute_input": "2022-06-27T19:41:17.272096Z",
     "iopub.status.busy": "2022-06-27T19:41:17.271528Z",
     "iopub.status.idle": "2022-06-27T19:41:17.281551Z",
     "shell.execute_reply": "2022-06-27T19:41:17.280078Z",
     "shell.execute_reply.started": "2022-06-27T19:41:17.271982Z"
    }
   },
   "outputs": [
    {
     "data": {
      "text/plain": [
       "0.6950957748214892"
      ]
     },
     "execution_count": 26,
     "metadata": {},
     "output_type": "execute_result"
    }
   ],
   "source": [
    "np.exp(lr.coef_[0][0]*20)"
   ]
  },
  {
   "cell_type": "code",
   "execution_count": 27,
   "metadata": {
    "execution": {
     "iopub.execute_input": "2022-06-27T19:42:04.425217Z",
     "iopub.status.busy": "2022-06-27T19:42:04.424840Z",
     "iopub.status.idle": "2022-06-27T19:42:04.457617Z",
     "shell.execute_reply": "2022-06-27T19:42:04.456392Z",
     "shell.execute_reply.started": "2022-06-27T19:42:04.425167Z"
    }
   },
   "outputs": [
    {
     "data": {
      "text/html": [
       "<div>\n",
       "<style scoped>\n",
       "    .dataframe tbody tr th:only-of-type {\n",
       "        vertical-align: middle;\n",
       "    }\n",
       "\n",
       "    .dataframe tbody tr th {\n",
       "        vertical-align: top;\n",
       "    }\n",
       "\n",
       "    .dataframe thead th {\n",
       "        text-align: right;\n",
       "    }\n",
       "</style>\n",
       "<table border=\"1\" class=\"dataframe\">\n",
       "  <thead>\n",
       "    <tr style=\"text-align: right;\">\n",
       "      <th></th>\n",
       "      <th>age</th>\n",
       "      <th>NumberOfTime30-59DaysPastDueNotWorse</th>\n",
       "      <th>DebtRatio</th>\n",
       "      <th>NumberOfTimes90DaysLate</th>\n",
       "      <th>NumberOfTime60-89DaysPastDueNotWorse</th>\n",
       "      <th>MonthlyIncome</th>\n",
       "      <th>NumberOfDependents</th>\n",
       "    </tr>\n",
       "  </thead>\n",
       "  <tbody>\n",
       "    <tr>\n",
       "      <th>0</th>\n",
       "      <td>64</td>\n",
       "      <td>0</td>\n",
       "      <td>0.249908</td>\n",
       "      <td>0</td>\n",
       "      <td>0</td>\n",
       "      <td>8158.0</td>\n",
       "      <td>0.0</td>\n",
       "    </tr>\n",
       "    <tr>\n",
       "      <th>1</th>\n",
       "      <td>58</td>\n",
       "      <td>0</td>\n",
       "      <td>3870.000000</td>\n",
       "      <td>0</td>\n",
       "      <td>0</td>\n",
       "      <td>5166.0</td>\n",
       "      <td>0.0</td>\n",
       "    </tr>\n",
       "    <tr>\n",
       "      <th>2</th>\n",
       "      <td>41</td>\n",
       "      <td>0</td>\n",
       "      <td>0.456127</td>\n",
       "      <td>0</td>\n",
       "      <td>0</td>\n",
       "      <td>6666.0</td>\n",
       "      <td>0.0</td>\n",
       "    </tr>\n",
       "    <tr>\n",
       "      <th>3</th>\n",
       "      <td>43</td>\n",
       "      <td>0</td>\n",
       "      <td>0.000190</td>\n",
       "      <td>0</td>\n",
       "      <td>0</td>\n",
       "      <td>10500.0</td>\n",
       "      <td>2.0</td>\n",
       "    </tr>\n",
       "    <tr>\n",
       "      <th>4</th>\n",
       "      <td>49</td>\n",
       "      <td>0</td>\n",
       "      <td>0.271820</td>\n",
       "      <td>0</td>\n",
       "      <td>0</td>\n",
       "      <td>400.0</td>\n",
       "      <td>0.0</td>\n",
       "    </tr>\n",
       "  </tbody>\n",
       "</table>\n",
       "</div>"
      ],
      "text/plain": [
       "   age         ...          NumberOfDependents\n",
       "0   64         ...                         0.0\n",
       "1   58         ...                         0.0\n",
       "2   41         ...                         0.0\n",
       "3   43         ...                         2.0\n",
       "4   49         ...                         0.0\n",
       "\n",
       "[5 rows x 7 columns]"
      ]
     },
     "execution_count": 27,
     "metadata": {},
     "output_type": "execute_result"
    }
   ],
   "source": [
    "X1 = X.copy()\n",
    "X1.head()"
   ]
  },
  {
   "cell_type": "markdown",
   "metadata": {
    "_uuid": "99d5aa4076c7064d4834ea32fa63a59da16c4b2d"
   },
   "source": [
    "## Random Forest"
   ]
  },
  {
   "cell_type": "markdown",
   "metadata": {
    "_uuid": "02f4dfa9d98b7663df6637e6bfe2ff8e43950905"
   },
   "source": [
    "Import the Random Forest classifier:"
   ]
  },
  {
   "cell_type": "code",
   "execution_count": 28,
   "metadata": {
    "_uuid": "8252905ea996ff08abc33560f7d144af8c53b56d",
    "execution": {
     "iopub.execute_input": "2022-06-27T19:47:30.270682Z",
     "iopub.status.busy": "2022-06-27T19:47:30.270002Z",
     "iopub.status.idle": "2022-06-27T19:47:30.276406Z",
     "shell.execute_reply": "2022-06-27T19:47:30.274797Z",
     "shell.execute_reply.started": "2022-06-27T19:47:30.270592Z"
    }
   },
   "outputs": [],
   "source": [
    "from sklearn.ensemble import RandomForestClassifier"
   ]
  },
  {
   "cell_type": "markdown",
   "metadata": {
    "_uuid": "e4e84e4a9edb9ded1e5e5bfcde49c7c116e82cf1"
   },
   "source": [
    "Initialize Random Forest with 100 trees and balance target classes:"
   ]
  },
  {
   "cell_type": "code",
   "execution_count": 29,
   "metadata": {
    "_uuid": "d9fcfad198b9bc5f66c916b8179b2edf7d1d6067",
    "execution": {
     "iopub.execute_input": "2022-06-27T19:47:34.804031Z",
     "iopub.status.busy": "2022-06-27T19:47:34.803627Z",
     "iopub.status.idle": "2022-06-27T19:47:34.808911Z",
     "shell.execute_reply": "2022-06-27T19:47:34.808089Z",
     "shell.execute_reply.started": "2022-06-27T19:47:34.803962Z"
    }
   },
   "outputs": [],
   "source": [
    "rf = RandomForestClassifier(n_estimators=100, n_jobs=-1, random_state=42, \n",
    "                            class_weight='balanced')"
   ]
  },
  {
   "cell_type": "markdown",
   "metadata": {
    "_uuid": "bcea3461d96645b75836cbb547c758036f6af715"
   },
   "source": [
    "We will search for the best parameters among the following values:"
   ]
  },
  {
   "cell_type": "code",
   "execution_count": 30,
   "metadata": {
    "_uuid": "4b04ae1ed65286fbd4e90511f524de20177f580a",
    "execution": {
     "iopub.execute_input": "2022-06-27T19:47:37.650026Z",
     "iopub.status.busy": "2022-06-27T19:47:37.649715Z",
     "iopub.status.idle": "2022-06-27T19:47:37.654987Z",
     "shell.execute_reply": "2022-06-27T19:47:37.654105Z",
     "shell.execute_reply.started": "2022-06-27T19:47:37.649986Z"
    }
   },
   "outputs": [],
   "source": [
    "parameters = {'max_features': [1, 2, 4], 'min_samples_leaf': [3, 5, 7, 9], 'max_depth': [5,10,15]}"
   ]
  },
  {
   "cell_type": "markdown",
   "metadata": {
    "_uuid": "74eb21e19cc3f6b819a438431a7781ffe6c3c9eb"
   },
   "source": [
    "Also, we will use the stratified k-fold validation again. You should still have the `skf` variable."
   ]
  },
  {
   "cell_type": "markdown",
   "metadata": {
    "_uuid": "a9a00dd2fc41cb30c83525e6129bfd8c13fa5492"
   },
   "source": [
    "**Question 8.** How much higher is the *ROC AUC* of the best random forest model than that of the best logistic regression on validation?\n",
    "\n",
    "1. 4%\n",
    "2. 3%\n",
    "3. 2%\n",
    "4. 1%"
   ]
  },
  {
   "cell_type": "code",
   "execution_count": 31,
   "metadata": {
    "_uuid": "f7adb918cb3a5b3b45527e77ca0eb70f78ecce55",
    "execution": {
     "iopub.execute_input": "2022-06-27T19:47:40.466704Z",
     "iopub.status.busy": "2022-06-27T19:47:40.466356Z",
     "iopub.status.idle": "2022-06-27T19:52:45.584272Z",
     "shell.execute_reply": "2022-06-27T19:52:45.582485Z",
     "shell.execute_reply.started": "2022-06-27T19:47:40.466660Z"
    }
   },
   "outputs": [],
   "source": [
    "# Your code here\n",
    "rf_grid_search = GridSearchCV(estimator=rf,param_grid=parameters,scoring='roc_auc',n_jobs=16,cv=skf)\n",
    "rf_grid_result  = rf_grid_search.fit(scaled_X,y)"
   ]
  },
  {
   "cell_type": "code",
   "execution_count": 32,
   "metadata": {
    "execution": {
     "iopub.execute_input": "2022-06-27T19:52:45.586689Z",
     "iopub.status.busy": "2022-06-27T19:52:45.586182Z",
     "iopub.status.idle": "2022-06-27T19:52:45.596900Z",
     "shell.execute_reply": "2022-06-27T19:52:45.596008Z",
     "shell.execute_reply.started": "2022-06-27T19:52:45.586467Z"
    }
   },
   "outputs": [
    {
     "name": "stdout",
     "output_type": "stream",
     "text": [
      "Best Score: 0.834913 using {'max_depth': 10, 'max_features': 1, 'min_samples_leaf': 9}\n",
      "Best estimator:  RandomForestClassifier(bootstrap=True, class_weight='balanced',\n",
      "            criterion='gini', max_depth=10, max_features=1,\n",
      "            max_leaf_nodes=None, min_impurity_decrease=0.0,\n",
      "            min_impurity_split=None, min_samples_leaf=9,\n",
      "            min_samples_split=2, min_weight_fraction_leaf=0.0,\n",
      "            n_estimators=100, n_jobs=-1, oob_score=False, random_state=42,\n",
      "            verbose=0, warm_start=False)\n",
      "Mean = 0.828188 (std=0.003844) with: {'max_depth': 5, 'max_features': 1, 'min_samples_leaf': 3}\n",
      "Mean = 0.828157 (std=0.004014) with: {'max_depth': 5, 'max_features': 1, 'min_samples_leaf': 5}\n",
      "Mean = 0.828147 (std=0.003940) with: {'max_depth': 5, 'max_features': 1, 'min_samples_leaf': 7}\n",
      "Mean = 0.828120 (std=0.003830) with: {'max_depth': 5, 'max_features': 1, 'min_samples_leaf': 9}\n",
      "Mean = 0.827930 (std=0.003891) with: {'max_depth': 5, 'max_features': 2, 'min_samples_leaf': 3}\n",
      "Mean = 0.827877 (std=0.003927) with: {'max_depth': 5, 'max_features': 2, 'min_samples_leaf': 5}\n",
      "Mean = 0.827828 (std=0.003966) with: {'max_depth': 5, 'max_features': 2, 'min_samples_leaf': 7}\n",
      "Mean = 0.827876 (std=0.003908) with: {'max_depth': 5, 'max_features': 2, 'min_samples_leaf': 9}\n",
      "Mean = 0.825924 (std=0.003354) with: {'max_depth': 5, 'max_features': 4, 'min_samples_leaf': 3}\n",
      "Mean = 0.825950 (std=0.003342) with: {'max_depth': 5, 'max_features': 4, 'min_samples_leaf': 5}\n",
      "Mean = 0.825998 (std=0.003341) with: {'max_depth': 5, 'max_features': 4, 'min_samples_leaf': 7}\n",
      "Mean = 0.826000 (std=0.003345) with: {'max_depth': 5, 'max_features': 4, 'min_samples_leaf': 9}\n",
      "Mean = 0.834165 (std=0.003428) with: {'max_depth': 10, 'max_features': 1, 'min_samples_leaf': 3}\n",
      "Mean = 0.834773 (std=0.003788) with: {'max_depth': 10, 'max_features': 1, 'min_samples_leaf': 5}\n",
      "Mean = 0.834498 (std=0.003714) with: {'max_depth': 10, 'max_features': 1, 'min_samples_leaf': 7}\n",
      "Mean = 0.834913 (std=0.003827) with: {'max_depth': 10, 'max_features': 1, 'min_samples_leaf': 9}\n",
      "Mean = 0.834135 (std=0.003687) with: {'max_depth': 10, 'max_features': 2, 'min_samples_leaf': 3}\n",
      "Mean = 0.834528 (std=0.003773) with: {'max_depth': 10, 'max_features': 2, 'min_samples_leaf': 5}\n",
      "Mean = 0.834744 (std=0.003867) with: {'max_depth': 10, 'max_features': 2, 'min_samples_leaf': 7}\n",
      "Mean = 0.834735 (std=0.003737) with: {'max_depth': 10, 'max_features': 2, 'min_samples_leaf': 9}\n",
      "Mean = 0.833698 (std=0.003613) with: {'max_depth': 10, 'max_features': 4, 'min_samples_leaf': 3}\n",
      "Mean = 0.834071 (std=0.003682) with: {'max_depth': 10, 'max_features': 4, 'min_samples_leaf': 5}\n",
      "Mean = 0.834434 (std=0.003726) with: {'max_depth': 10, 'max_features': 4, 'min_samples_leaf': 7}\n",
      "Mean = 0.834675 (std=0.003551) with: {'max_depth': 10, 'max_features': 4, 'min_samples_leaf': 9}\n",
      "Mean = 0.829540 (std=0.003381) with: {'max_depth': 15, 'max_features': 1, 'min_samples_leaf': 3}\n",
      "Mean = 0.831736 (std=0.003935) with: {'max_depth': 15, 'max_features': 1, 'min_samples_leaf': 5}\n",
      "Mean = 0.832914 (std=0.003971) with: {'max_depth': 15, 'max_features': 1, 'min_samples_leaf': 7}\n",
      "Mean = 0.833546 (std=0.003664) with: {'max_depth': 15, 'max_features': 1, 'min_samples_leaf': 9}\n",
      "Mean = 0.828913 (std=0.003214) with: {'max_depth': 15, 'max_features': 2, 'min_samples_leaf': 3}\n",
      "Mean = 0.830840 (std=0.003474) with: {'max_depth': 15, 'max_features': 2, 'min_samples_leaf': 5}\n",
      "Mean = 0.832114 (std=0.003527) with: {'max_depth': 15, 'max_features': 2, 'min_samples_leaf': 7}\n",
      "Mean = 0.832653 (std=0.003863) with: {'max_depth': 15, 'max_features': 2, 'min_samples_leaf': 9}\n",
      "Mean = 0.825558 (std=0.003275) with: {'max_depth': 15, 'max_features': 4, 'min_samples_leaf': 3}\n",
      "Mean = 0.828121 (std=0.004080) with: {'max_depth': 15, 'max_features': 4, 'min_samples_leaf': 5}\n",
      "Mean = 0.829345 (std=0.003740) with: {'max_depth': 15, 'max_features': 4, 'min_samples_leaf': 7}\n",
      "Mean = 0.830442 (std=0.003763) with: {'max_depth': 15, 'max_features': 4, 'min_samples_leaf': 9}\n"
     ]
    }
   ],
   "source": [
    "# summarize results\n",
    "print(\"Best Score: %f using %s\" % (rf_grid_result.best_score_, rf_grid_result.best_params_))\n",
    "print(\"Best estimator:  %s\" % (rf_grid_result.best_estimator_))\n",
    "means = rf_grid_result.cv_results_['mean_test_score']\n",
    "stds = rf_grid_result.cv_results_['std_test_score']\n",
    "params = rf_grid_result.cv_results_['params']\n",
    "for mean, stdev, param in zip(means,stds,params):\n",
    "     print(\"Mean = %f (std=%f) with: %r\" % (mean, stdev, param))"
   ]
  },
  {
   "cell_type": "markdown",
   "metadata": {
    "_uuid": "8be735e7919d87d06dd627ec1885d0ef72f032e0"
   },
   "source": [
    "**Question 9.** What feature has the weakest impact in the Random Forest model?\n",
    "\n",
    "1. age\n",
    "2. NumberOfTime30-59DaysPastDueNotWorse\n",
    "3. DebtRatio\n",
    "4. NumberOfTimes90DaysLate\n",
    "5. NumberOfTime60-89DaysPastDueNotWorse\n",
    "6. MonthlyIncome\n",
    "7. NumberOfDependents"
   ]
  },
  {
   "cell_type": "code",
   "execution_count": 33,
   "metadata": {
    "_uuid": "bbb93f0ced33c8a65894bfd0bb26c5fbe534394c",
    "execution": {
     "iopub.execute_input": "2022-06-27T19:56:33.519355Z",
     "iopub.status.busy": "2022-06-27T19:56:33.518962Z",
     "iopub.status.idle": "2022-06-27T19:56:33.629955Z",
     "shell.execute_reply": "2022-06-27T19:56:33.628391Z",
     "shell.execute_reply.started": "2022-06-27T19:56:33.519299Z"
    }
   },
   "outputs": [
    {
     "data": {
      "text/plain": [
       "'NumberOfDependents'"
      ]
     },
     "execution_count": 33,
     "metadata": {},
     "output_type": "execute_result"
    }
   ],
   "source": [
    "# Your code here\n",
    "independent_columns_names[np.argmin(rf_grid_search.best_estimator_.feature_importances_)]"
   ]
  },
  {
   "cell_type": "code",
   "execution_count": 34,
   "metadata": {
    "execution": {
     "iopub.execute_input": "2022-06-27T19:56:50.307851Z",
     "iopub.status.busy": "2022-06-27T19:56:50.307410Z",
     "iopub.status.idle": "2022-06-27T19:56:50.422039Z",
     "shell.execute_reply": "2022-06-27T19:56:50.420988Z",
     "shell.execute_reply.started": "2022-06-27T19:56:50.307780Z"
    }
   },
   "outputs": [
    {
     "data": {
      "text/plain": [
       "'NumberOfTime30-59DaysPastDueNotWorse'"
      ]
     },
     "execution_count": 34,
     "metadata": {},
     "output_type": "execute_result"
    }
   ],
   "source": [
    "independent_columns_names[np.argmax(rf_grid_search.best_estimator_.feature_importances_)]"
   ]
  },
  {
   "cell_type": "markdown",
   "metadata": {
    "_uuid": "6b4e8cf8f503365cf8d877a8bca477b53ec0bd81"
   },
   "source": [
    "**Question 10.** What is the most significant advantage of using *Logistic Regression* versus *Random Forest* for this problem?\n",
    "\n",
    "1. Spent less time for model fitting;\n",
    "2. Fewer variables to iterate;\n",
    "3. Feature interpretability;\n",
    "4. Linear properties of the algorithm."
   ]
  },
  {
   "cell_type": "code",
   "execution_count": 35,
   "metadata": {
    "execution": {
     "iopub.execute_input": "2022-06-27T19:57:27.744418Z",
     "iopub.status.busy": "2022-06-27T19:57:27.743953Z",
     "iopub.status.idle": "2022-06-27T19:57:27.869569Z",
     "shell.execute_reply": "2022-06-27T19:57:27.868600Z",
     "shell.execute_reply.started": "2022-06-27T19:57:27.744343Z"
    }
   },
   "outputs": [
    {
     "data": {
      "text/html": [
       "<div>\n",
       "<style scoped>\n",
       "    .dataframe tbody tr th:only-of-type {\n",
       "        vertical-align: middle;\n",
       "    }\n",
       "\n",
       "    .dataframe tbody tr th {\n",
       "        vertical-align: top;\n",
       "    }\n",
       "\n",
       "    .dataframe thead th {\n",
       "        text-align: right;\n",
       "    }\n",
       "</style>\n",
       "<table border=\"1\" class=\"dataframe\">\n",
       "  <thead>\n",
       "    <tr style=\"text-align: right;\">\n",
       "      <th></th>\n",
       "      <th>feat</th>\n",
       "      <th>coef</th>\n",
       "    </tr>\n",
       "  </thead>\n",
       "  <tbody>\n",
       "    <tr>\n",
       "      <th>1</th>\n",
       "      <td>NumberOfTime30-59DaysPastDueNotWorse</td>\n",
       "      <td>0.297775</td>\n",
       "    </tr>\n",
       "    <tr>\n",
       "      <th>3</th>\n",
       "      <td>NumberOfTimes90DaysLate</td>\n",
       "      <td>0.248106</td>\n",
       "    </tr>\n",
       "    <tr>\n",
       "      <th>4</th>\n",
       "      <td>NumberOfTime60-89DaysPastDueNotWorse</td>\n",
       "      <td>0.164310</td>\n",
       "    </tr>\n",
       "    <tr>\n",
       "      <th>0</th>\n",
       "      <td>age</td>\n",
       "      <td>0.126299</td>\n",
       "    </tr>\n",
       "    <tr>\n",
       "      <th>2</th>\n",
       "      <td>DebtRatio</td>\n",
       "      <td>0.076959</td>\n",
       "    </tr>\n",
       "    <tr>\n",
       "      <th>5</th>\n",
       "      <td>MonthlyIncome</td>\n",
       "      <td>0.067057</td>\n",
       "    </tr>\n",
       "    <tr>\n",
       "      <th>6</th>\n",
       "      <td>NumberOfDependents</td>\n",
       "      <td>0.019494</td>\n",
       "    </tr>\n",
       "  </tbody>\n",
       "</table>\n",
       "</div>"
      ],
      "text/plain": [
       "                                   feat      coef\n",
       "1  NumberOfTime30-59DaysPastDueNotWorse  0.297775\n",
       "3               NumberOfTimes90DaysLate  0.248106\n",
       "4  NumberOfTime60-89DaysPastDueNotWorse  0.164310\n",
       "0                                   age  0.126299\n",
       "2                             DebtRatio  0.076959\n",
       "5                         MonthlyIncome  0.067057\n",
       "6                    NumberOfDependents  0.019494"
      ]
     },
     "execution_count": 35,
     "metadata": {},
     "output_type": "execute_result"
    }
   ],
   "source": [
    "pd.DataFrame({'feat': independent_columns_names,\n",
    "              'coef': rf_grid_search.best_estimator_.feature_importances_}).sort_values(by='coef', ascending=False)"
   ]
  },
  {
   "cell_type": "markdown",
   "metadata": {
    "_uuid": "e409eaafe9afbebc52c02ba218107f9fde6eb54c"
   },
   "source": [
    "## Bagging"
   ]
  },
  {
   "cell_type": "markdown",
   "metadata": {
    "_uuid": "094bd877f40d72cf269e0395fd7d6e070bce8701"
   },
   "source": [
    "Import modules and set up the parameters for bagging:"
   ]
  },
  {
   "cell_type": "code",
   "execution_count": 36,
   "metadata": {
    "_uuid": "ea666be2e57e478428cc553fd7e2ecd5d7ca8bee",
    "execution": {
     "iopub.execute_input": "2022-06-27T20:16:12.777182Z",
     "iopub.status.busy": "2022-06-27T20:16:12.776667Z",
     "iopub.status.idle": "2022-06-27T20:16:12.784917Z",
     "shell.execute_reply": "2022-06-27T20:16:12.783752Z",
     "shell.execute_reply.started": "2022-06-27T20:16:12.777117Z"
    }
   },
   "outputs": [],
   "source": [
    "from sklearn.ensemble import BaggingClassifier\n",
    "from sklearn.model_selection import cross_val_score, RandomizedSearchCV\n",
    "\n",
    "parameters = {'max_features': [2, 3, 4], 'max_samples': [0.5, 0.7, 0.9], \n",
    "              'base_estimator__C': [0.0001, 0.001, 0.01, 1, 10, 100]}"
   ]
  },
  {
   "cell_type": "markdown",
   "metadata": {
    "_uuid": "98db8aa7f3e6ae450091a61ac187cad6dc0a05aa"
   },
   "source": [
    "**Question 11.** Fit a bagging classifier with `random_state=42`. For the base classifiers, use 100 logistic regressors and use `RandomizedSearchCV` instead of `GridSearchCV`. It will take a lot of time to iterate over all 54 variants, so set the maximum number of iterations for `RandomizedSearchCV` to 20. Don't forget to set the parameters `cv` and `random_state=1`. What is the best *ROC AUC* you achieve?\n",
    "\n",
    "1. 80.75%\n",
    "2. 80.12%\n",
    "3. 79.62%\n",
    "4. 76.50%"
   ]
  },
  {
   "cell_type": "code",
   "execution_count": 37,
   "metadata": {
    "_uuid": "2c2e9cc7930cc6c3816f8538385d1f78c12b104b",
    "execution": {
     "iopub.execute_input": "2022-06-27T20:19:25.769440Z",
     "iopub.status.busy": "2022-06-27T20:19:25.769047Z",
     "iopub.status.idle": "2022-06-27T20:19:25.776194Z",
     "shell.execute_reply": "2022-06-27T20:19:25.774875Z",
     "shell.execute_reply.started": "2022-06-27T20:19:25.769383Z"
    }
   },
   "outputs": [],
   "source": [
    "# Your code here\n",
    "bg = BaggingClassifier(LogisticRegression(class_weight='balanced'),n_estimators=100,random_state=42,n_jobs=-1)"
   ]
  },
  {
   "cell_type": "code",
   "execution_count": 38,
   "metadata": {
    "execution": {
     "iopub.execute_input": "2022-06-27T20:23:35.813978Z",
     "iopub.status.busy": "2022-06-27T20:23:35.813383Z",
     "iopub.status.idle": "2022-06-27T20:32:53.267194Z",
     "shell.execute_reply": "2022-06-27T20:32:53.266149Z",
     "shell.execute_reply.started": "2022-06-27T20:23:35.813903Z"
    }
   },
   "outputs": [
    {
     "name": "stdout",
     "output_type": "stream",
     "text": [
      "Fitting 5 folds for each of 20 candidates, totalling 100 fits\n"
     ]
    },
    {
     "name": "stderr",
     "output_type": "stream",
     "text": [
      "[Parallel(n_jobs=16)]: Using backend LokyBackend with 16 concurrent workers.\n",
      "[Parallel(n_jobs=16)]: Done  18 tasks      | elapsed:  2.1min\n",
      "[Parallel(n_jobs=16)]: Done 100 out of 100 | elapsed:  7.8min finished\n"
     ]
    }
   ],
   "source": [
    "r_grid_search = RandomizedSearchCV(bg, parameters, n_iter=20, \n",
    "                                   scoring='roc_auc', n_jobs=16,cv=skf, random_state=1,verbose=True)\n",
    "r_grid_result = r_grid_search.fit(X, y)"
   ]
  },
  {
   "cell_type": "code",
   "execution_count": 39,
   "metadata": {
    "execution": {
     "iopub.execute_input": "2022-06-27T20:32:53.269500Z",
     "iopub.status.busy": "2022-06-27T20:32:53.268896Z",
     "iopub.status.idle": "2022-06-27T20:32:53.283264Z",
     "shell.execute_reply": "2022-06-27T20:32:53.281915Z",
     "shell.execute_reply.started": "2022-06-27T20:32:53.269423Z"
    }
   },
   "outputs": [
    {
     "name": "stdout",
     "output_type": "stream",
     "text": [
      "Best Score: 0.807617 using {'max_samples': 0.7, 'max_features': 2, 'base_estimator__C': 0.001}\n",
      "Best estimator:  BaggingClassifier(base_estimator=LogisticRegression(C=0.001, class_weight='balanced', dual=False,\n",
      "          fit_intercept=True, intercept_scaling=1, max_iter=100,\n",
      "          multi_class='warn', n_jobs=None, penalty='l2', random_state=None,\n",
      "          solver='warn', tol=0.0001, verbose=0, warm_start=False),\n",
      "         bootstrap=True, bootstrap_features=False, max_features=2,\n",
      "         max_samples=0.7, n_estimators=100, n_jobs=-1, oob_score=False,\n",
      "         random_state=42, verbose=0, warm_start=False)\n",
      "Mean = 0.799240 (std=0.006979) with: {'max_samples': 0.5, 'max_features': 3, 'base_estimator__C': 1}\n",
      "Mean = 0.799487 (std=0.006614) with: {'max_samples': 0.9, 'max_features': 2, 'base_estimator__C': 0.0001}\n",
      "Mean = 0.798023 (std=0.007056) with: {'max_samples': 0.9, 'max_features': 4, 'base_estimator__C': 10}\n",
      "Mean = 0.798915 (std=0.006801) with: {'max_samples': 0.9, 'max_features': 3, 'base_estimator__C': 1}\n",
      "Mean = 0.799255 (std=0.006925) with: {'max_samples': 0.7, 'max_features': 3, 'base_estimator__C': 1}\n",
      "Mean = 0.803666 (std=0.006478) with: {'max_samples': 0.9, 'max_features': 2, 'base_estimator__C': 100}\n",
      "Mean = 0.798570 (std=0.006975) with: {'max_samples': 0.7, 'max_features': 4, 'base_estimator__C': 1}\n",
      "Mean = 0.799174 (std=0.006956) with: {'max_samples': 0.7, 'max_features': 3, 'base_estimator__C': 10}\n",
      "Mean = 0.803944 (std=0.006578) with: {'max_samples': 0.7, 'max_features': 2, 'base_estimator__C': 100}\n",
      "Mean = 0.805993 (std=0.006271) with: {'max_samples': 0.7, 'max_features': 2, 'base_estimator__C': 0.01}\n",
      "Mean = 0.807617 (std=0.005781) with: {'max_samples': 0.7, 'max_features': 2, 'base_estimator__C': 0.001}\n",
      "Mean = 0.790085 (std=0.006856) with: {'max_samples': 0.5, 'max_features': 3, 'base_estimator__C': 0.0001}\n",
      "Mean = 0.802166 (std=0.006458) with: {'max_samples': 0.5, 'max_features': 3, 'base_estimator__C': 0.01}\n",
      "Mean = 0.798897 (std=0.006813) with: {'max_samples': 0.9, 'max_features': 3, 'base_estimator__C': 100}\n",
      "Mean = 0.799227 (std=0.006954) with: {'max_samples': 0.5, 'max_features': 3, 'base_estimator__C': 10}\n",
      "Mean = 0.798575 (std=0.007023) with: {'max_samples': 0.5, 'max_features': 4, 'base_estimator__C': 10}\n",
      "Mean = 0.801387 (std=0.006376) with: {'max_samples': 0.5, 'max_features': 4, 'base_estimator__C': 0.01}\n",
      "Mean = 0.798493 (std=0.006943) with: {'max_samples': 0.7, 'max_features': 4, 'base_estimator__C': 100}\n",
      "Mean = 0.798863 (std=0.006816) with: {'max_samples': 0.9, 'max_features': 3, 'base_estimator__C': 10}\n",
      "Mean = 0.798082 (std=0.007033) with: {'max_samples': 0.9, 'max_features': 4, 'base_estimator__C': 1}\n"
     ]
    }
   ],
   "source": [
    "# summarize results\n",
    "print(\"Best Score: %f using %s\" % (r_grid_result.best_score_, r_grid_result.best_params_))\n",
    "print(\"Best estimator:  %s\" % (r_grid_result.best_estimator_))\n",
    "means = r_grid_result.cv_results_['mean_test_score']\n",
    "stds = r_grid_result.cv_results_['std_test_score']\n",
    "params = r_grid_result.cv_results_['params']\n",
    "for mean, stdev, param in zip(means,stds,params):\n",
    "     print(\"Mean = %f (std=%f) with: %r\" % (mean, stdev, param))"
   ]
  },
  {
   "cell_type": "markdown",
   "metadata": {
    "_uuid": "09590fe9a20e8ab33fb09dc14ddc2862646e01b5"
   },
   "source": [
    "**Question 12.** Give an interpretation of the best parameters for bagging. Why are these values of `max_features` and `max_samples` the best?\n",
    "\n",
    "1. For bagging it's important to use as few features as possible;\n",
    "2. Bagging works better on small samples;\n",
    "3. Less correlation between single models;\n",
    "4. The higher the number of features, the lower the loss of information."
   ]
  }
 ],
 "metadata": {
  "kernelspec": {
   "display_name": "Python 3",
   "language": "python",
   "name": "python3"
  },
  "language_info": {
   "codemirror_mode": {
    "name": "ipython",
    "version": 3
   },
   "file_extension": ".py",
   "mimetype": "text/x-python",
   "name": "python",
   "nbconvert_exporter": "python",
   "pygments_lexer": "ipython3",
   "version": "3.6.4"
  }
 },
 "nbformat": 4,
 "nbformat_minor": 4
}
